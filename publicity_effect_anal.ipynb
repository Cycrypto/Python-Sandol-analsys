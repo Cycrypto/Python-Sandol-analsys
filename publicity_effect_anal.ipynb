{
 "cells": [
  {
   "cell_type": "markdown",
   "metadata": {
    "collapsed": true,
    "pycharm": {
     "name": "#%% md\n"
    }
   },
   "source": [
    "# 홍보 효과 분석\n",
    "### 홍보 일자\n",
    "- 11/ 19 홍보 포스터 부착\n",
    "- 10 / 13 먼슬리 미팅\n",
    "- 10 / 2 학보사 인터뷰 자료 출판\n",
    "- 9/30 (2차 대규모 패치 - 세미콘 홍보)\n",
    "- 9/3 (푸드라운지 식당 추가)\n",
    "- 8/14 (1차 코드 리펙토링)\n",
    "- 7/14 (지하철 블록 업데이트)\n",
    "- 7/29 (막차 블록 업데이트)\n",
    "- 5/23 (산돌이 꾸미기 - 프로필 사진 / 페르소나 등..)\n",
    "- 5/21 (산돌팀 모집 및 1차 대규모 패치 홍보)\n",
    "- 3/13 (산돌이 인스타그램 생성 및 홍보)\n",
    "- 3/4 (신입생 홍보)\n",
    "- 2/18 (에브리타임 산돌이 홍보?)\n",
    "\n",
    "### 분석 개요\n",
    "위 일자들에 대한 이용률 증가 및 효과가 좋았던 내용을 순위를 매겨\n",
    "앞으로의 홍보 전략에 이바지하기 위함.\n",
    "\n",
    "### 분석 방법\n",
    "홍보일 이전 $$n$$일과, 이후 $$n$$일의 신규 사용자 및 활성사용자 수의 변화를 토대로  \n",
    "홍보 효과를 분석."
   ]
  },
  {
   "cell_type": "code",
   "execution_count": null,
   "outputs": [],
   "source": [],
   "metadata": {
    "collapsed": false,
    "pycharm": {
     "name": "#%%\n"
    }
   }
  }
 ],
 "metadata": {
  "kernelspec": {
   "display_name": "Python 3",
   "language": "python",
   "name": "python3"
  },
  "language_info": {
   "codemirror_mode": {
    "name": "ipython",
    "version": 2
   },
   "file_extension": ".py",
   "mimetype": "text/x-python",
   "name": "python",
   "nbconvert_exporter": "python",
   "pygments_lexer": "ipython2",
   "version": "2.7.6"
  }
 },
 "nbformat": 4,
 "nbformat_minor": 0
}