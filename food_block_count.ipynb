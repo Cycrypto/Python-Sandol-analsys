{
 "cells": [
  {
   "cell_type": "markdown",
   "metadata": {
    "collapsed": true,
    "pycharm": {
     "name": "#%% md\n"
    }
   },
   "source": [
    "# 요일별 학식\n",
    "- 학식 블럭 호출수가 산돌이 호출 블럭에서 가장 많은 횟수를 차지하는 만큼, 어느 시점에서 가장 많이 호출되는가를 요일별로 분석하고자한다.\n",
    "- 이로서, 식당들이 어느 시점에 가장 많은 잠재적 고객을 가지고 있는가를 분석하고, 음식을 준비 하는 양을 예측할 수 있도록 데이터화 하는것이 목표이다."
   ]
  },
  {
   "cell_type": "code",
   "execution_count": 5,
   "outputs": [
    {
     "data": {
      "text/plain": "        date_id    블록이름  호출수\n0    2021-01-03      학식    2\n1    2021-01-04     도움말   11\n2    2021-01-04      셔틀    3\n3    2021-01-04   폴백 블록    3\n4    2021-01-04      학식   55\n...         ...     ...  ...\n1802 2021-10-29  학식운영시간   11\n1803 2021-10-30     도움말   13\n1804 2021-10-30      셔틀    2\n1805 2021-10-30      학식   60\n1806 2021-10-30  학식운영시간    2\n\n[1807 rows x 3 columns]",
      "text/html": "<div>\n<style scoped>\n    .dataframe tbody tr th:only-of-type {\n        vertical-align: middle;\n    }\n\n    .dataframe tbody tr th {\n        vertical-align: top;\n    }\n\n    .dataframe thead th {\n        text-align: right;\n    }\n</style>\n<table border=\"1\" class=\"dataframe\">\n  <thead>\n    <tr style=\"text-align: right;\">\n      <th></th>\n      <th>date_id</th>\n      <th>블록이름</th>\n      <th>호출수</th>\n    </tr>\n  </thead>\n  <tbody>\n    <tr>\n      <th>0</th>\n      <td>2021-01-03</td>\n      <td>학식</td>\n      <td>2</td>\n    </tr>\n    <tr>\n      <th>1</th>\n      <td>2021-01-04</td>\n      <td>도움말</td>\n      <td>11</td>\n    </tr>\n    <tr>\n      <th>2</th>\n      <td>2021-01-04</td>\n      <td>셔틀</td>\n      <td>3</td>\n    </tr>\n    <tr>\n      <th>3</th>\n      <td>2021-01-04</td>\n      <td>폴백 블록</td>\n      <td>3</td>\n    </tr>\n    <tr>\n      <th>4</th>\n      <td>2021-01-04</td>\n      <td>학식</td>\n      <td>55</td>\n    </tr>\n    <tr>\n      <th>...</th>\n      <td>...</td>\n      <td>...</td>\n      <td>...</td>\n    </tr>\n    <tr>\n      <th>1802</th>\n      <td>2021-10-29</td>\n      <td>학식운영시간</td>\n      <td>11</td>\n    </tr>\n    <tr>\n      <th>1803</th>\n      <td>2021-10-30</td>\n      <td>도움말</td>\n      <td>13</td>\n    </tr>\n    <tr>\n      <th>1804</th>\n      <td>2021-10-30</td>\n      <td>셔틀</td>\n      <td>2</td>\n    </tr>\n    <tr>\n      <th>1805</th>\n      <td>2021-10-30</td>\n      <td>학식</td>\n      <td>60</td>\n    </tr>\n    <tr>\n      <th>1806</th>\n      <td>2021-10-30</td>\n      <td>학식운영시간</td>\n      <td>2</td>\n    </tr>\n  </tbody>\n</table>\n<p>1807 rows × 3 columns</p>\n</div>"
     },
     "execution_count": 5,
     "metadata": {},
     "output_type": "execute_result"
    }
   ],
   "source": [
    "import matplotlib.pyplot as plt\n",
    "import pandas as pd\n",
    "import warnings\n",
    "\n",
    "warnings.filterwarnings(\"ignore\")\n",
    "plt.rc('font', family='Batang')\n",
    "PATH = f\"./data/호출블록_2021년 1월-10월.csv\"\n",
    "\n",
    "df = pd.read_csv(PATH, parse_dates=['date_id'])\n",
    "df"
   ],
   "metadata": {
    "collapsed": false,
    "pycharm": {
     "name": "#%%\n"
    }
   }
  },
  {
   "cell_type": "code",
   "execution_count": 38,
   "outputs": [
    {
     "data": {
      "text/plain": "[11097, 12393, 11388, 12176, 11042, 2420, 1152]"
     },
     "execution_count": 38,
     "metadata": {},
     "output_type": "execute_result"
    }
   ],
   "source": [
    "weeks = [i for i in range(7)]\n",
    "sum_of_users = []\n",
    "for i in weeks:\n",
    "    day_of_week = df['date_id'].dt.dayofweek.isin(list(map(int, str(i))))\n",
    "    sum_of_users.append(sum(df[day_of_week]['호출수']))\n",
    "sum_of_users"
   ],
   "metadata": {
    "collapsed": false,
    "pycharm": {
     "name": "#%%\n"
    }
   }
  },
  {
   "cell_type": "code",
   "execution_count": 39,
   "outputs": [
    {
     "data": {
      "text/plain": "<BarContainer object of 7 artists>"
     },
     "execution_count": 39,
     "metadata": {},
     "output_type": "execute_result"
    },
    {
     "data": {
      "text/plain": "<Figure size 432x288 with 1 Axes>",
      "image/png": "[encoded data removed]"
     },
     "metadata": {
      "needs_background": "light"
     },
     "output_type": "display_data"
    }
   ],
   "source": [
    "weeks = ['월', '화', '수', '목', '금', '토', '일']\n",
    "plt.bar(weeks, sum_of_users)"
   ],
   "metadata": {
    "collapsed": false,
    "pycharm": {
     "name": "#%%\n"
    }
   }
  },
  {
   "cell_type": "markdown",
   "source": [
    "## 결론\n",
    "- 요일별 총합 후 가장 많은 데이터를 추려보았다.\n",
    "- 범위는 1월 - 10월이다\n",
    "- **순위**\n",
    "  - 화요일 : 12393\n",
    "  - 목요일 : 12176\n",
    "  - 수요일 : 11388\n",
    "  - 월요일 : 11097\n",
    "  - 금요일 : 11042\n",
    "  - 토요일 : 2420\n",
    "  - 일요일 : 1152\n",
    "\n",
    "- 즉 수업이 없는 주말의 경우 사용율이 급격하게 감소하며, 평일중 가운데 값인 수요일을 기준으로 순위권에 들어있다는것을 알 수 있다."
   ],
   "metadata": {
    "collapsed": false,
    "pycharm": {
     "name": "#%% md\n"
    }
   }
  }
 ],
 "metadata": {
  "kernelspec": {
   "display_name": "Python 3",
   "language": "python",
   "name": "python3"
  },
  "language_info": {
   "codemirror_mode": {
    "name": "ipython",
    "version": 2
   },
   "file_extension": ".py",
   "mimetype": "text/x-python",
   "name": "python",
   "nbconvert_exporter": "python",
   "pygments_lexer": "ipython2",
   "version": "2.7.6"
  }
 },
 "nbformat": 4,
 "nbformat_minor": 0
}