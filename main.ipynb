{
 "cells": [
  {
   "cell_type": "markdown",
   "source": [],
   "metadata": {
    "collapsed": false,
    "pycharm": {
     "name": "#%% md\n"
    }
   }
  },
  {
   "cell_type": "markdown",
   "source": [],
   "metadata": {
    "collapsed": false,
    "pycharm": {
     "name": "#%% md\n"
    }
   }
  },
  {
   "cell_type": "code",
   "execution_count": 12,
   "metadata": {
    "collapsed": true
   },
   "outputs": [
    {
     "data": {
      "text/plain": "     Unnamed: 0          날짜  활성사용자  웰컴 및 event 수신 제외 활성사용자  신규 사용자  재방문사용자  \\\n0             0  2020-01-09      1                       1       1       0   \n1             1  2020-01-10      0                       0       0       0   \n2             2  2020-01-11      0                       0       0       0   \n3             3  2020-01-12      1                       1       0       1   \n4             4  2020-01-13      1                       1       1       0   \n..          ...         ...    ...                     ...     ...     ...   \n644         644  2021-10-14    305                     305       7     298   \n645         645  2021-10-15    268                     267       6     262   \n646         646  2021-10-16    100                     100       0     100   \n647         647  2021-10-17     24                      24       2      22   \n648         648  2021-10-18    316                     315       9     307   \n\n     누적사용자  전체 세션 수  세션 당 평균 메시지 수   친구수  채널 추가수 합계  채팅 요청 친구수  \n0        1        2           2.00     1          1          1  \n1        1        0           0.00     1          0          0  \n2        1        0           0.00     1          0          0  \n3        1        1           1.00     1          0          1  \n4        2        1           3.00     1          0          1  \n..     ...      ...            ...   ...        ...        ...  \n644   2744      398           1.42  2333          6        305  \n645   2750      351           1.43  2338          5        267  \n646   2750      129           1.64  2338          0        100  \n647   2752       26           1.88  2339          1         24  \n648   2761      405           1.78  2345          7        316  \n\n[649 rows x 12 columns]",
      "text/html": "<div>\n<style scoped>\n    .dataframe tbody tr th:only-of-type {\n        vertical-align: middle;\n    }\n\n    .dataframe tbody tr th {\n        vertical-align: top;\n    }\n\n    .dataframe thead th {\n        text-align: right;\n    }\n</style>\n<table border=\"1\" class=\"dataframe\">\n  <thead>\n    <tr style=\"text-align: right;\">\n      <th></th>\n      <th>Unnamed: 0</th>\n      <th>날짜</th>\n      <th>활성사용자</th>\n      <th>웰컴 및 event 수신 제외 활성사용자</th>\n      <th>신규 사용자</th>\n      <th>재방문사용자</th>\n      <th>누적사용자</th>\n      <th>전체 세션 수</th>\n      <th>세션 당 평균 메시지 수</th>\n      <th>친구수</th>\n      <th>채널 추가수 합계</th>\n      <th>채팅 요청 친구수</th>\n    </tr>\n  </thead>\n  <tbody>\n    <tr>\n      <th>0</th>\n      <td>0</td>\n      <td>2020-01-09</td>\n      <td>1</td>\n      <td>1</td>\n      <td>1</td>\n      <td>0</td>\n      <td>1</td>\n      <td>2</td>\n      <td>2.00</td>\n      <td>1</td>\n      <td>1</td>\n      <td>1</td>\n    </tr>\n    <tr>\n      <th>1</th>\n      <td>1</td>\n      <td>2020-01-10</td>\n      <td>0</td>\n      <td>0</td>\n      <td>0</td>\n      <td>0</td>\n      <td>1</td>\n      <td>0</td>\n      <td>0.00</td>\n      <td>1</td>\n      <td>0</td>\n      <td>0</td>\n    </tr>\n    <tr>\n      <th>2</th>\n      <td>2</td>\n      <td>2020-01-11</td>\n      <td>0</td>\n      <td>0</td>\n      <td>0</td>\n      <td>0</td>\n      <td>1</td>\n      <td>0</td>\n      <td>0.00</td>\n      <td>1</td>\n      <td>0</td>\n      <td>0</td>\n    </tr>\n    <tr>\n      <th>3</th>\n      <td>3</td>\n      <td>2020-01-12</td>\n      <td>1</td>\n      <td>1</td>\n      <td>0</td>\n      <td>1</td>\n      <td>1</td>\n      <td>1</td>\n      <td>1.00</td>\n      <td>1</td>\n      <td>0</td>\n      <td>1</td>\n    </tr>\n    <tr>\n      <th>4</th>\n      <td>4</td>\n      <td>2020-01-13</td>\n      <td>1</td>\n      <td>1</td>\n      <td>1</td>\n      <td>0</td>\n      <td>2</td>\n      <td>1</td>\n      <td>3.00</td>\n      <td>1</td>\n      <td>0</td>\n      <td>1</td>\n    </tr>\n    <tr>\n      <th>...</th>\n      <td>...</td>\n      <td>...</td>\n      <td>...</td>\n      <td>...</td>\n      <td>...</td>\n      <td>...</td>\n      <td>...</td>\n      <td>...</td>\n      <td>...</td>\n      <td>...</td>\n      <td>...</td>\n      <td>...</td>\n    </tr>\n    <tr>\n      <th>644</th>\n      <td>644</td>\n      <td>2021-10-14</td>\n      <td>305</td>\n      <td>305</td>\n      <td>7</td>\n      <td>298</td>\n      <td>2744</td>\n      <td>398</td>\n      <td>1.42</td>\n      <td>2333</td>\n      <td>6</td>\n      <td>305</td>\n    </tr>\n    <tr>\n      <th>645</th>\n      <td>645</td>\n      <td>2021-10-15</td>\n      <td>268</td>\n      <td>267</td>\n      <td>6</td>\n      <td>262</td>\n      <td>2750</td>\n      <td>351</td>\n      <td>1.43</td>\n      <td>2338</td>\n      <td>5</td>\n      <td>267</td>\n    </tr>\n    <tr>\n      <th>646</th>\n      <td>646</td>\n      <td>2021-10-16</td>\n      <td>100</td>\n      <td>100</td>\n      <td>0</td>\n      <td>100</td>\n      <td>2750</td>\n      <td>129</td>\n      <td>1.64</td>\n      <td>2338</td>\n      <td>0</td>\n      <td>100</td>\n    </tr>\n    <tr>\n      <th>647</th>\n      <td>647</td>\n      <td>2021-10-17</td>\n      <td>24</td>\n      <td>24</td>\n      <td>2</td>\n      <td>22</td>\n      <td>2752</td>\n      <td>26</td>\n      <td>1.88</td>\n      <td>2339</td>\n      <td>1</td>\n      <td>24</td>\n    </tr>\n    <tr>\n      <th>648</th>\n      <td>648</td>\n      <td>2021-10-18</td>\n      <td>316</td>\n      <td>315</td>\n      <td>9</td>\n      <td>307</td>\n      <td>2761</td>\n      <td>405</td>\n      <td>1.78</td>\n      <td>2345</td>\n      <td>7</td>\n      <td>316</td>\n    </tr>\n  </tbody>\n</table>\n<p>649 rows × 12 columns</p>\n</div>"
     },
     "execution_count": 12,
     "metadata": {},
     "output_type": "execute_result"
    }
   ],
   "source": [
    "import pandas as pd\n",
    "PATH = \"https://raw.githubusercontent.com/hhhminme/kpu_sandol_team/main/statistic/sandol_200109-211018.csv\"\n",
    "pd.read_csv(PATH)\n"
   ]
  }
 ],
 "metadata": {
  "kernelspec": {
   "display_name": "Python 3",
   "language": "python",
   "name": "python3"
  },
  "language_info": {
   "codemirror_mode": {
    "name": "ipython",
    "version": 2
   },
   "file_extension": ".py",
   "mimetype": "text/x-python",
   "name": "python",
   "nbconvert_exporter": "python",
   "pygments_lexer": "ipython2",
   "version": "2.7.6"
  }
 },
 "nbformat": 4,
 "nbformat_minor": 0
}