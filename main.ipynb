{
 "cells": [
  {
   "cell_type": "markdown",
   "metadata": {
    "pycharm": {
     "name": "#%% md\n"
    }
   },
   "source": [
    "# 분석 목표\n",
    "-"
   ]
  },
  {
   "cell_type": "code",
   "execution_count": 43,
   "metadata": {
    "collapsed": true
   },
   "outputs": [
    {
     "data": {
      "text/html": [
       "<div>\n",
       "<style scoped>\n",
       "    .dataframe tbody tr th:only-of-type {\n",
       "        vertical-align: middle;\n",
       "    }\n",
       "\n",
       "    .dataframe tbody tr th {\n",
       "        vertical-align: top;\n",
       "    }\n",
       "\n",
       "    .dataframe thead th {\n",
       "        text-align: right;\n",
       "    }\n",
       "</style>\n",
       "<table border=\"1\" class=\"dataframe\">\n",
       "  <thead>\n",
       "    <tr style=\"text-align: right;\">\n",
       "      <th></th>\n",
       "      <th>날짜</th>\n",
       "      <th>활성사용자</th>\n",
       "      <th>웰컴 및 event 수신 제외 활성사용자</th>\n",
       "      <th>신규 사용자</th>\n",
       "      <th>재방문사용자</th>\n",
       "      <th>누적사용자</th>\n",
       "      <th>전체 세션 수</th>\n",
       "      <th>세션 당 평균 메시지 수</th>\n",
       "      <th>친구수</th>\n",
       "      <th>채널 추가수 합계</th>\n",
       "      <th>채팅 요청 친구수</th>\n",
       "    </tr>\n",
       "  </thead>\n",
       "  <tbody>\n",
       "    <tr>\n",
       "      <th>1</th>\n",
       "      <td>2020-01-10</td>\n",
       "      <td>0</td>\n",
       "      <td>0</td>\n",
       "      <td>0</td>\n",
       "      <td>0</td>\n",
       "      <td>1</td>\n",
       "      <td>0</td>\n",
       "      <td>0.0</td>\n",
       "      <td>1</td>\n",
       "      <td>0</td>\n",
       "      <td>0</td>\n",
       "    </tr>\n",
       "    <tr>\n",
       "      <th>2</th>\n",
       "      <td>2020-01-11</td>\n",
       "      <td>0</td>\n",
       "      <td>0</td>\n",
       "      <td>0</td>\n",
       "      <td>0</td>\n",
       "      <td>1</td>\n",
       "      <td>0</td>\n",
       "      <td>0.0</td>\n",
       "      <td>1</td>\n",
       "      <td>0</td>\n",
       "      <td>0</td>\n",
       "    </tr>\n",
       "    <tr>\n",
       "      <th>3</th>\n",
       "      <td>2020-01-12</td>\n",
       "      <td>1</td>\n",
       "      <td>1</td>\n",
       "      <td>0</td>\n",
       "      <td>1</td>\n",
       "      <td>1</td>\n",
       "      <td>1</td>\n",
       "      <td>1.0</td>\n",
       "      <td>1</td>\n",
       "      <td>0</td>\n",
       "      <td>1</td>\n",
       "    </tr>\n",
       "    <tr>\n",
       "      <th>4</th>\n",
       "      <td>2020-01-13</td>\n",
       "      <td>1</td>\n",
       "      <td>1</td>\n",
       "      <td>1</td>\n",
       "      <td>0</td>\n",
       "      <td>2</td>\n",
       "      <td>1</td>\n",
       "      <td>3.0</td>\n",
       "      <td>1</td>\n",
       "      <td>0</td>\n",
       "      <td>1</td>\n",
       "    </tr>\n",
       "    <tr>\n",
       "      <th>5</th>\n",
       "      <td>2020-01-14</td>\n",
       "      <td>1</td>\n",
       "      <td>1</td>\n",
       "      <td>0</td>\n",
       "      <td>1</td>\n",
       "      <td>2</td>\n",
       "      <td>1</td>\n",
       "      <td>3.0</td>\n",
       "      <td>1</td>\n",
       "      <td>0</td>\n",
       "      <td>1</td>\n",
       "    </tr>\n",
       "  </tbody>\n",
       "</table>\n",
       "</div>"
      ],
      "text/plain": [
       "           날짜  활성사용자  웰컴 및 event 수신 제외 활성사용자  신규 사용자  재방문사용자  누적사용자  전체 세션 수  \\\n",
       "1  2020-01-10      0                       0       0       0      1        0   \n",
       "2  2020-01-11      0                       0       0       0      1        0   \n",
       "3  2020-01-12      1                       1       0       1      1        1   \n",
       "4  2020-01-13      1                       1       1       0      2        1   \n",
       "5  2020-01-14      1                       1       0       1      2        1   \n",
       "\n",
       "   세션 당 평균 메시지 수  친구수  채널 추가수 합계  채팅 요청 친구수  \n",
       "1            0.0    1          0          0  \n",
       "2            0.0    1          0          0  \n",
       "3            1.0    1          0          1  \n",
       "4            3.0    1          0          1  \n",
       "5            3.0    1          0          1  "
      ]
     },
     "execution_count": 43,
     "metadata": {},
     "output_type": "execute_result"
    }
   ],
   "source": [
    "import pandas as pd\n",
    "import matplotlib as mpl\n",
    "import matplotlib.pyplot as plt\n",
    "from sklearn.linear_model import LinearRegression\n",
    "PATH = \"https://raw.githubusercontent.com/hhhminme/kpu_sandol_team/main/statistic/sandol_200109-211018.csv\"\n",
    "df = pd.read_csv(PATH)[1:]\n",
    "df = df.iloc[:,1:]\n",
    "df.head()"
   ]
  },
  {
   "cell_type": "code",
   "execution_count": 44,
   "metadata": {
    "pycharm": {
     "name": "#%%\n"
    }
   },
   "outputs": [
    {
     "data": {
      "text/plain": [
       "Index(['날짜', '활성사용자', '웰컴 및 event 수신 제외 활성사용자', '신규 사용자', '재방문사용자', '누적사용자',\n",
       "       '전체 세션 수', '세션 당 평균 메시지 수', '친구수', '채널 추가수 합계', '채팅 요청 친구수'],\n",
       "      dtype='object')"
      ]
     },
     "execution_count": 44,
     "metadata": {},
     "output_type": "execute_result"
    }
   ],
   "source": [
    "df.columns"
   ]
  },
  {
   "cell_type": "code",
   "execution_count": 45,
   "metadata": {
    "pycharm": {
     "name": "#%%\n"
    }
   },
   "outputs": [],
   "source": [
    "mpl.rc(\"font\", family='Batang')"
   ]
  },
  {
   "cell_type": "code",
   "execution_count": 46,
   "metadata": {
    "pycharm": {
     "name": "#%%\n"
    }
   },
   "outputs": [
    {
     "data": {
      "text/plain": [
       "array([[<AxesSubplot:title={'center':'활성사용자'}>,\n",
       "        <AxesSubplot:title={'center':'웰컴 및 event 수신 제외 활성사용자'}>,\n",
       "        <AxesSubplot:title={'center':'신규 사용자'}>],\n",
       "       [<AxesSubplot:title={'center':'재방문사용자'}>,\n",
       "        <AxesSubplot:title={'center':'누적사용자'}>,\n",
       "        <AxesSubplot:title={'center':'전체 세션 수'}>],\n",
       "       [<AxesSubplot:title={'center':'세션 당 평균 메시지 수'}>,\n",
       "        <AxesSubplot:title={'center':'친구수'}>,\n",
       "        <AxesSubplot:title={'center':'채널 추가수 합계'}>],\n",
       "       [<AxesSubplot:title={'center':'채팅 요청 친구수'}>, <AxesSubplot:>,\n",
       "        <AxesSubplot:>]], dtype=object)"
      ]
     },
     "execution_count": 46,
     "metadata": {},
     "output_type": "execute_result"
    },
    {
     "data": {
      "image/png": "[encoded data removed]",
      "text/plain": [
       "<Figure size 432x288 with 12 Axes>"
      ]
     },
     "metadata": {
      "needs_background": "light"
     },
     "output_type": "display_data"
    }
   ],
   "source": [
    "df.hist(bins=100)"
   ]
  }
 ],
 "metadata": {
  "kernelspec": {
   "display_name": "Python 3 (ipykernel)",
   "language": "python",
   "name": "python3"
  },
  "language_info": {
   "codemirror_mode": {
    "name": "ipython",
    "version": 3
   },
   "file_extension": ".py",
   "mimetype": "text/x-python",
   "name": "python",
   "nbconvert_exporter": "python",
   "pygments_lexer": "ipython3",
   "version": "3.9.7"
  }
 },
 "nbformat": 4,
 "nbformat_minor": 1
}