{
 "cells": [
  {
   "cell_type": "markdown",
   "source": [
    "* Lot_size : 제품 크기\n",
    "* Work_hours : 작업 시간\n",
    "\n",
    "-> 제품 크기와 작업시간 간의 상관관계 분석"
   ],
   "metadata": {
    "collapsed": false,
    "pycharm": {
     "name": "#%% md\n"
    }
   }
  },
  {
   "cell_type": "code",
   "execution_count": 79,
   "metadata": {
    "collapsed": true
   },
   "outputs": [],
   "source": [
    "import pandas as pd\n",
    "import matplotlib.pyplot as plt\n",
    "from sklearn import linear_model\n",
    "from sklearn.model_selection import train_test_split"
   ]
  },
  {
   "cell_type": "code",
   "execution_count": 80,
   "outputs": [
    {
     "data": {
      "text/plain": "    Lot_size  Work_hours\n0         80         399\n1         30         121\n2         50         221\n3         90         376\n4         70         361\n5         60         224\n6        120         546\n7         80         352\n8        100         353\n9         50         157\n10        40         160\n11        70         252\n12        90         389\n13        20         113\n14       110         435\n15       100         420\n16        30         212\n17        50         268\n18        90         377\n19       110         421\n20        30         273\n21        90         468\n22        40         244\n23        80         342\n24        70         323",
      "text/html": "<div>\n<style scoped>\n    .dataframe tbody tr th:only-of-type {\n        vertical-align: middle;\n    }\n\n    .dataframe tbody tr th {\n        vertical-align: top;\n    }\n\n    .dataframe thead th {\n        text-align: right;\n    }\n</style>\n<table border=\"1\" class=\"dataframe\">\n  <thead>\n    <tr style=\"text-align: right;\">\n      <th></th>\n      <th>Lot_size</th>\n      <th>Work_hours</th>\n    </tr>\n  </thead>\n  <tbody>\n    <tr>\n      <th>0</th>\n      <td>80</td>\n      <td>399</td>\n    </tr>\n    <tr>\n      <th>1</th>\n      <td>30</td>\n      <td>121</td>\n    </tr>\n    <tr>\n      <th>2</th>\n      <td>50</td>\n      <td>221</td>\n    </tr>\n    <tr>\n      <th>3</th>\n      <td>90</td>\n      <td>376</td>\n    </tr>\n    <tr>\n      <th>4</th>\n      <td>70</td>\n      <td>361</td>\n    </tr>\n    <tr>\n      <th>5</th>\n      <td>60</td>\n      <td>224</td>\n    </tr>\n    <tr>\n      <th>6</th>\n      <td>120</td>\n      <td>546</td>\n    </tr>\n    <tr>\n      <th>7</th>\n      <td>80</td>\n      <td>352</td>\n    </tr>\n    <tr>\n      <th>8</th>\n      <td>100</td>\n      <td>353</td>\n    </tr>\n    <tr>\n      <th>9</th>\n      <td>50</td>\n      <td>157</td>\n    </tr>\n    <tr>\n      <th>10</th>\n      <td>40</td>\n      <td>160</td>\n    </tr>\n    <tr>\n      <th>11</th>\n      <td>70</td>\n      <td>252</td>\n    </tr>\n    <tr>\n      <th>12</th>\n      <td>90</td>\n      <td>389</td>\n    </tr>\n    <tr>\n      <th>13</th>\n      <td>20</td>\n      <td>113</td>\n    </tr>\n    <tr>\n      <th>14</th>\n      <td>110</td>\n      <td>435</td>\n    </tr>\n    <tr>\n      <th>15</th>\n      <td>100</td>\n      <td>420</td>\n    </tr>\n    <tr>\n      <th>16</th>\n      <td>30</td>\n      <td>212</td>\n    </tr>\n    <tr>\n      <th>17</th>\n      <td>50</td>\n      <td>268</td>\n    </tr>\n    <tr>\n      <th>18</th>\n      <td>90</td>\n      <td>377</td>\n    </tr>\n    <tr>\n      <th>19</th>\n      <td>110</td>\n      <td>421</td>\n    </tr>\n    <tr>\n      <th>20</th>\n      <td>30</td>\n      <td>273</td>\n    </tr>\n    <tr>\n      <th>21</th>\n      <td>90</td>\n      <td>468</td>\n    </tr>\n    <tr>\n      <th>22</th>\n      <td>40</td>\n      <td>244</td>\n    </tr>\n    <tr>\n      <th>23</th>\n      <td>80</td>\n      <td>342</td>\n    </tr>\n    <tr>\n      <th>24</th>\n      <td>70</td>\n      <td>323</td>\n    </tr>\n  </tbody>\n</table>\n</div>"
     },
     "execution_count": 80,
     "metadata": {},
     "output_type": "execute_result"
    }
   ],
   "source": [
    "path = r\"resources/data/toluca_company_dataset.csv\"\n",
    "df = pd.DataFrame(pd.read_csv(path))\n",
    "df"
   ],
   "metadata": {
    "collapsed": false,
    "pycharm": {
     "name": "#%%\n"
    }
   }
  },
  {
   "cell_type": "code",
   "execution_count": 81,
   "outputs": [
    {
     "data": {
      "text/plain": "array([[<AxesSubplot:title={'center':'Lot_size'}>,\n        <AxesSubplot:title={'center':'Work_hours'}>]], dtype=object)"
     },
     "execution_count": 81,
     "metadata": {},
     "output_type": "execute_result"
    },
    {
     "data": {
      "text/plain": "<Figure size 432x288 with 2 Axes>",
      "image/png": "[encoded data removed]"
     },
     "metadata": {
      "needs_background": "light"
     },
     "output_type": "display_data"
    }
   ],
   "source": [
    "df.hist(bins=10)"
   ],
   "metadata": {
    "collapsed": false,
    "pycharm": {
     "name": "#%%\n"
    }
   }
  },
  {
   "cell_type": "code",
   "execution_count": 82,
   "outputs": [
    {
     "data": {
      "text/plain": "<matplotlib.collections.PathCollection at 0x135a5a40670>"
     },
     "execution_count": 82,
     "metadata": {},
     "output_type": "execute_result"
    },
    {
     "data": {
      "text/plain": "<Figure size 432x288 with 1 Axes>",
      "image/png": "[encoded data removed]"
     },
     "metadata": {
      "needs_background": "light"
     },
     "output_type": "display_data"
    }
   ],
   "source": [
    "plt.scatter(df['Lot_size'], df['Work_hours'])"
   ],
   "metadata": {
    "collapsed": false,
    "pycharm": {
     "name": "#%%\n"
    }
   }
  },
  {
   "cell_type": "code",
   "execution_count": 83,
   "outputs": [],
   "source": [
    "x = df['Lot_size']\n",
    "y = df['Work_hours']"
   ],
   "metadata": {
    "collapsed": false,
    "pycharm": {
     "name": "#%%\n"
    }
   }
  },
  {
   "cell_type": "code",
   "execution_count": 93,
   "outputs": [],
   "source": [
    "line_fitter = linear_model.LinearRegression()\n",
    "line_fitter = line_fitter.fit(x.values.reshape(-1, 1), y)"
   ],
   "metadata": {
    "collapsed": false,
    "pycharm": {
     "name": "#%%\n"
    }
   }
  },
  {
   "cell_type": "code",
   "execution_count": 101,
   "outputs": [
    {
     "data": {
      "text/plain": "[<matplotlib.lines.Line2D at 0x135a5b583d0>]"
     },
     "execution_count": 101,
     "metadata": {},
     "output_type": "execute_result"
    },
    {
     "data": {
      "text/plain": "<Figure size 432x288 with 1 Axes>",
      "image/png": "[encoded data removed]"
     },
     "metadata": {
      "needs_background": "light"
     },
     "output_type": "display_data"
    }
   ],
   "source": [
    "plt.plot(x, y, 'o')\n",
    "plt.plot(x, line_fitter.predict(x.values.reshape(-1, 1)))\n"
   ],
   "metadata": {
    "collapsed": false,
    "pycharm": {
     "name": "#%%\n"
    }
   }
  }
 ],
 "metadata": {
  "kernelspec": {
   "display_name": "Python 3",
   "language": "python",
   "name": "python3"
  },
  "language_info": {
   "codemirror_mode": {
    "name": "ipython",
    "version": 2
   },
   "file_extension": ".py",
   "mimetype": "text/x-python",
   "name": "python",
   "nbconvert_exporter": "python",
   "pygments_lexer": "ipython2",
   "version": "2.7.6"
  }
 },
 "nbformat": 4,
 "nbformat_minor": 0
}