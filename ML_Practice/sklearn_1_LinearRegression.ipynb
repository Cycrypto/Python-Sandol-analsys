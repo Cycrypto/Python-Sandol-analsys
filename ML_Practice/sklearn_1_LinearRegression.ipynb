{
 "cells": [
  {
   "cell_type": "markdown",
   "metadata": {
    "collapsed": true,
    "pycharm": {
     "name": "#%% md\n"
    }
   },
   "source": [
    "# 선형 회귀분석\n",
    "결과를 바탕으로 관계를 역으로 찾아서 거슬러 올라가는 느낌이라 회귀라고 부르는 것은 아닌가 합니다."
   ]
  },
  {
   "cell_type": "code",
   "execution_count": 2,
   "metadata": {
    "pycharm": {
     "name": "#%%\n"
    }
   },
   "outputs": [],
   "source": [
    "import pandas as pd\n",
    "import numpy as np\n",
    "import matplotlib.pyplot as plt\n",
    "\n",
    "import warnings\n",
    "warnings.filterwarnings(\"ignore\")"
   ]
  },
  {
   "cell_type": "code",
   "execution_count": 3,
   "metadata": {
    "pycharm": {
     "name": "#%%\n"
    }
   },
   "outputs": [],
   "source": [
    "picher_file_path = \"./resources/data/picher_stats_2017.csv\"\n",
    "picher = pd.read_csv(picher_file_path)"
   ]
  },
  {
   "cell_type": "code",
   "execution_count": 4,
   "metadata": {
    "pycharm": {
     "name": "#%%\n"
    }
   },
   "outputs": [
    {
     "data": {
      "text/plain": "   선수명   팀명   승   패  세  홀드  블론  경기  선발     이닝  ...  홈런/9  BABIP  LOB%   ERA  \\\n0   켈리   SK  16   7  0   0   0  30  30  190.0  ...  0.76  0.342  73.7  3.60   \n1   소사   LG  11  11  1   0   0  30  29  185.1  ...  0.53  0.319  67.1  3.88   \n2  양현종  KIA  20   6  0   0   0  31  31  193.1  ...  0.79  0.332  72.1  3.44   \n3  차우찬   LG  10   7  0   0   0  28  28  175.2  ...  1.02  0.298  75.0  3.43   \n4  레일리   롯데  13   7  0   0   0  30  30  187.1  ...  0.91  0.323  74.1  3.80   \n\n   RA9-WAR   FIP  kFIP   WAR  연봉(2018)  연봉(2017)  \n0     6.91  3.69  3.44  6.62    140000     85000  \n1     6.80  3.52  3.41  6.08    120000     50000  \n2     6.54  3.94  3.82  5.64    230000    150000  \n3     6.11  4.20  4.03  4.63    100000    100000  \n4     6.13  4.36  4.31  4.38    111000     85000  \n\n[5 rows x 22 columns]",
      "text/html": "<div>\n<style scoped>\n    .dataframe tbody tr th:only-of-type {\n        vertical-align: middle;\n    }\n\n    .dataframe tbody tr th {\n        vertical-align: top;\n    }\n\n    .dataframe thead th {\n        text-align: right;\n    }\n</style>\n<table border=\"1\" class=\"dataframe\">\n  <thead>\n    <tr style=\"text-align: right;\">\n      <th></th>\n      <th>선수명</th>\n      <th>팀명</th>\n      <th>승</th>\n      <th>패</th>\n      <th>세</th>\n      <th>홀드</th>\n      <th>블론</th>\n      <th>경기</th>\n      <th>선발</th>\n      <th>이닝</th>\n      <th>...</th>\n      <th>홈런/9</th>\n      <th>BABIP</th>\n      <th>LOB%</th>\n      <th>ERA</th>\n      <th>RA9-WAR</th>\n      <th>FIP</th>\n      <th>kFIP</th>\n      <th>WAR</th>\n      <th>연봉(2018)</th>\n      <th>연봉(2017)</th>\n    </tr>\n  </thead>\n  <tbody>\n    <tr>\n      <th>0</th>\n      <td>켈리</td>\n      <td>SK</td>\n      <td>16</td>\n      <td>7</td>\n      <td>0</td>\n      <td>0</td>\n      <td>0</td>\n      <td>30</td>\n      <td>30</td>\n      <td>190.0</td>\n      <td>...</td>\n      <td>0.76</td>\n      <td>0.342</td>\n      <td>73.7</td>\n      <td>3.60</td>\n      <td>6.91</td>\n      <td>3.69</td>\n      <td>3.44</td>\n      <td>6.62</td>\n      <td>140000</td>\n      <td>85000</td>\n    </tr>\n    <tr>\n      <th>1</th>\n      <td>소사</td>\n      <td>LG</td>\n      <td>11</td>\n      <td>11</td>\n      <td>1</td>\n      <td>0</td>\n      <td>0</td>\n      <td>30</td>\n      <td>29</td>\n      <td>185.1</td>\n      <td>...</td>\n      <td>0.53</td>\n      <td>0.319</td>\n      <td>67.1</td>\n      <td>3.88</td>\n      <td>6.80</td>\n      <td>3.52</td>\n      <td>3.41</td>\n      <td>6.08</td>\n      <td>120000</td>\n      <td>50000</td>\n    </tr>\n    <tr>\n      <th>2</th>\n      <td>양현종</td>\n      <td>KIA</td>\n      <td>20</td>\n      <td>6</td>\n      <td>0</td>\n      <td>0</td>\n      <td>0</td>\n      <td>31</td>\n      <td>31</td>\n      <td>193.1</td>\n      <td>...</td>\n      <td>0.79</td>\n      <td>0.332</td>\n      <td>72.1</td>\n      <td>3.44</td>\n      <td>6.54</td>\n      <td>3.94</td>\n      <td>3.82</td>\n      <td>5.64</td>\n      <td>230000</td>\n      <td>150000</td>\n    </tr>\n    <tr>\n      <th>3</th>\n      <td>차우찬</td>\n      <td>LG</td>\n      <td>10</td>\n      <td>7</td>\n      <td>0</td>\n      <td>0</td>\n      <td>0</td>\n      <td>28</td>\n      <td>28</td>\n      <td>175.2</td>\n      <td>...</td>\n      <td>1.02</td>\n      <td>0.298</td>\n      <td>75.0</td>\n      <td>3.43</td>\n      <td>6.11</td>\n      <td>4.20</td>\n      <td>4.03</td>\n      <td>4.63</td>\n      <td>100000</td>\n      <td>100000</td>\n    </tr>\n    <tr>\n      <th>4</th>\n      <td>레일리</td>\n      <td>롯데</td>\n      <td>13</td>\n      <td>7</td>\n      <td>0</td>\n      <td>0</td>\n      <td>0</td>\n      <td>30</td>\n      <td>30</td>\n      <td>187.1</td>\n      <td>...</td>\n      <td>0.91</td>\n      <td>0.323</td>\n      <td>74.1</td>\n      <td>3.80</td>\n      <td>6.13</td>\n      <td>4.36</td>\n      <td>4.31</td>\n      <td>4.38</td>\n      <td>111000</td>\n      <td>85000</td>\n    </tr>\n  </tbody>\n</table>\n<p>5 rows × 22 columns</p>\n</div>"
     },
     "execution_count": 4,
     "metadata": {},
     "output_type": "execute_result"
    }
   ],
   "source": [
    "picher.head()   # 상위 5행만 출력"
   ]
  },
  {
   "cell_type": "code",
   "execution_count": 5,
   "metadata": {
    "pycharm": {
     "name": "#%%\n"
    }
   },
   "outputs": [
    {
     "data": {
      "text/plain": "Index(['선수명', '팀명', '승', '패', '세', '홀드', '블론', '경기', '선발', '이닝', '삼진/9',\n       '볼넷/9', '홈런/9', 'BABIP', 'LOB%', 'ERA', 'RA9-WAR', 'FIP', 'kFIP', 'WAR',\n       '연봉(2018)', '연봉(2017)'],\n      dtype='object')"
     },
     "execution_count": 5,
     "metadata": {},
     "output_type": "execute_result"
    }
   ],
   "source": [
    "picher.columns"
   ]
  },
  {
   "cell_type": "code",
   "execution_count": 6,
   "metadata": {
    "pycharm": {
     "name": "#%%\n"
    }
   },
   "outputs": [
    {
     "data": {
      "text/plain": "{'Agency FB',\n 'Algerian',\n 'Ami R',\n 'Arial',\n 'Arial Rounded MT Bold',\n 'Bahnschrift',\n 'Baskerville Old Face',\n 'Batang',\n 'Bauhaus 93',\n 'Bell MT',\n 'Berlin Sans FB',\n 'Berlin Sans FB Demi',\n 'Bernard MT Condensed',\n 'Blackadder ITC',\n 'Bodoni MT',\n 'Book Antiqua',\n 'Bookman Old Style',\n 'Bookshelf Symbol 7',\n 'Bradley Hand ITC',\n 'Britannic Bold',\n 'Broadway',\n 'Brush Script MT',\n 'Calibri',\n 'Californian FB',\n 'Calisto MT',\n 'Cambria',\n 'Candara',\n 'Castellar',\n 'Centaur',\n 'Century',\n 'Century Gothic',\n 'Century Schoolbook',\n 'Chiller',\n 'Colonna MT',\n 'Comic Sans MS',\n 'Consolas',\n 'Constantia',\n 'Cooper Black',\n 'Copperplate Gothic Bold',\n 'Copperplate Gothic Light',\n 'Corbel',\n 'Courier New',\n 'Curlz MT',\n 'DejaVu Sans',\n 'DejaVu Sans Display',\n 'DejaVu Sans Mono',\n 'DejaVu Serif',\n 'DejaVu Serif Display',\n 'Dubai',\n 'Ebrima',\n 'Edwardian Script ITC',\n 'Elephant',\n 'Engravers MT',\n 'Eras Bold ITC',\n 'Eras Demi ITC',\n 'Eras Light ITC',\n 'Eras Medium ITC',\n 'Felix Titling',\n 'Footlight MT Light',\n 'Forte',\n 'Franklin Gothic Book',\n 'Franklin Gothic Demi',\n 'Franklin Gothic Demi Cond',\n 'Franklin Gothic Heavy',\n 'Franklin Gothic Medium',\n 'Franklin Gothic Medium Cond',\n 'Freestyle Script',\n 'French Script MT',\n 'Gabriola',\n 'Gadugi',\n 'Garamond',\n 'Georgia',\n 'Gigi',\n 'Gill Sans MT',\n 'Gill Sans MT Condensed',\n 'Gill Sans MT Ext Condensed Bold',\n 'Gill Sans Ultra Bold',\n 'Gill Sans Ultra Bold Condensed',\n 'Gloucester MT Extra Condensed',\n 'Goudy Old Style',\n 'Goudy Stout',\n 'Gulim',\n 'HYGothic-Extra',\n 'HYGothic-Medium',\n 'HYGraphic-Medium',\n 'HYGungSo-Bold',\n 'HYHeadLine-Medium',\n 'HYMyeongJo-Extra',\n 'HYPMokGak-Bold',\n 'HYPost-Light',\n 'HYPost-Medium',\n 'HYShortSamul-Medium',\n 'HYSinMyeongJo-Medium',\n 'Haettenschweiler',\n 'Harlow Solid Italic',\n 'Harrington',\n 'Headline R',\n 'High Tower Text',\n 'HoloLens MDL2 Assets',\n 'Impact',\n 'Imprint MT Shadow',\n 'Informal Roman',\n 'Ink Free',\n 'Javanese Text',\n 'Jokerman',\n 'Juice ITC',\n 'Kristen ITC',\n 'Kunstler Script',\n 'Leelawadee UI',\n 'Lucida Bright',\n 'Lucida Calligraphy',\n 'Lucida Console',\n 'Lucida Fax',\n 'Lucida Handwriting',\n 'Lucida Sans',\n 'Lucida Sans Typewriter',\n 'Lucida Sans Unicode',\n 'MS Gothic',\n 'MS Outlook',\n 'MS Reference Sans Serif',\n 'MS Reference Specialty',\n 'MT Extra',\n 'MV Boli',\n 'Magic R',\n 'Magneto',\n 'Maiandra GD',\n 'Malgun Gothic',\n 'Marlett',\n 'Matura MT Script Capitals',\n 'Microsoft Himalaya',\n 'Microsoft JhengHei',\n 'Microsoft New Tai Lue',\n 'Microsoft PhagsPa',\n 'Microsoft Sans Serif',\n 'Microsoft Tai Le',\n 'Microsoft YaHei',\n 'Microsoft Yi Baiti',\n 'MingLiU-ExtB',\n 'Mistral',\n 'Modern No. 20',\n 'MoeumT R',\n 'Mongolian Baiti',\n 'Monotype Corsiva',\n 'Myanmar Text',\n 'New Gulim',\n 'Niagara Engraved',\n 'Niagara Solid',\n 'Nirmala UI',\n 'OCR A Extended',\n 'Old English Text MT',\n 'Onyx',\n 'Palace Script MT',\n 'Palatino Linotype',\n 'Papyrus',\n 'Parchment',\n 'Perpetua',\n 'Perpetua Titling MT',\n 'Playbill',\n 'Poor Richard',\n 'Pristina',\n 'Pyunji R',\n 'Rage Italic',\n 'Ravie',\n 'Rockwell',\n 'Rockwell Condensed',\n 'Rockwell Extra Bold',\n 'STIXGeneral',\n 'STIXNonUnicode',\n 'STIXSizeFiveSym',\n 'STIXSizeFourSym',\n 'STIXSizeOneSym',\n 'STIXSizeThreeSym',\n 'STIXSizeTwoSym',\n 'Script MT Bold',\n 'Segoe MDL2 Assets',\n 'Segoe Print',\n 'Segoe Script',\n 'Segoe UI',\n 'Segoe UI Emoji',\n 'Segoe UI Historic',\n 'Segoe UI Symbol',\n 'Showcard Gothic',\n 'SimSun',\n 'SimSun-ExtB',\n 'Sitka Small',\n 'Snap ITC',\n 'Stencil',\n 'Sylfaen',\n 'Symbol',\n 'Tahoma',\n 'Tempus Sans ITC',\n 'Times New Roman',\n 'Trebuchet MS',\n 'Tw Cen MT',\n 'Tw Cen MT Condensed',\n 'Tw Cen MT Condensed Extra Bold',\n 'Verdana',\n 'Viner Hand ITC',\n 'Vivaldi',\n 'Vladimir Script',\n 'Webdings',\n 'Wide Latin',\n 'Wingdings',\n 'Wingdings 2',\n 'Wingdings 3',\n 'Yet R',\n 'Yu Gothic',\n 'cmb10',\n 'cmex10',\n 'cmmi10',\n 'cmr10',\n 'cmss10',\n 'cmsy10',\n 'cmtt10'}"
     },
     "execution_count": 6,
     "metadata": {},
     "output_type": "execute_result"
    }
   ],
   "source": [
    "import matplotlib as mpl\n",
    "set(sorted([f.name for f in mpl.font_manager.fontManager.ttflist]))\n",
    "# FONT 리스트 확인"
   ]
  },
  {
   "cell_type": "code",
   "execution_count": 7,
   "metadata": {
    "pycharm": {
     "name": "#%%\n"
    }
   },
   "outputs": [],
   "source": [
    "mpl.rc('font', family='Batang')"
   ]
  },
  {
   "cell_type": "code",
   "execution_count": 8,
   "metadata": {
    "pycharm": {
     "name": "#%%\n"
    }
   },
   "outputs": [
    {
     "data": {
      "text/plain": "<AxesSubplot:>"
     },
     "execution_count": 8,
     "metadata": {},
     "output_type": "execute_result"
    },
    {
     "data": {
      "text/plain": "<Figure size 432x288 with 1 Axes>",
      "image/png": "[encoded data removed]"
     },
     "metadata": {
      "needs_background": "light"
     },
     "output_type": "display_data"
    }
   ],
   "source": [
    "picher['연봉(2018)'].hist(bins=100)"
   ]
  },
  {
   "cell_type": "code",
   "execution_count": 9,
   "metadata": {
    "pycharm": {
     "name": "#%%\n"
    }
   },
   "outputs": [
    {
     "data": {
      "text/plain": "<AxesSubplot:>"
     },
     "execution_count": 9,
     "metadata": {},
     "output_type": "execute_result"
    },
    {
     "data": {
      "text/plain": "<Figure size 432x288 with 1 Axes>",
      "image/png": "[encoded data removed]"
     },
     "metadata": {
      "needs_background": "light"
     },
     "output_type": "display_data"
    }
   ],
   "source": [
    "picher.boxplot(column=[\"연봉(2018)\"])"
   ]
  },
  {
   "cell_type": "code",
   "execution_count": 10,
   "metadata": {
    "pycharm": {
     "name": "#%%\n"
    }
   },
   "outputs": [
    {
     "data": {
      "text/plain": "<AxesSubplot:xlabel='연봉(2018)', ylabel='Density'>"
     },
     "execution_count": 10,
     "metadata": {},
     "output_type": "execute_result"
    },
    {
     "data": {
      "text/plain": "<Figure size 432x288 with 1 Axes>",
      "image/png": "[encoded data removed]"
     },
     "metadata": {
      "needs_background": "light"
     },
     "output_type": "display_data"
    }
   ],
   "source": [
    "from seaborn import distplot\n",
    "distplot(picher['연봉(2018)'])"
   ]
  },
  {
   "cell_type": "code",
   "execution_count": 11,
   "metadata": {
    "pycharm": {
     "name": "#%%\n"
    }
   },
   "outputs": [],
   "source": [
    "# 피처 각각에 대한 scaling을 수행하는 함수를 정의합니다.\n",
    "def standard_scaling(df, scale_columns):\n",
    "    for col in scale_columns:\n",
    "        series_mean = df[col].mean()\n",
    "        series_std = df[col].std()\n",
    "        df[col] = df[col].apply(lambda x: (x-series_mean)/series_std)\n",
    "    return df"
   ]
  },
  {
   "cell_type": "code",
   "execution_count": 12,
   "outputs": [
    {
     "data": {
      "text/plain": "     선수명   팀명         승         패         세        홀드        블론        경기  \\\n0     켈리   SK  3.313623  1.227145 -0.306452 -0.585705 -0.543592  0.059433   \n1     소사   LG  2.019505  2.504721 -0.098502 -0.585705 -0.543592  0.059433   \n2    양현종  KIA  4.348918  0.907751 -0.306452 -0.585705 -0.543592  0.111056   \n3    차우찬   LG  1.760682  1.227145 -0.306452 -0.585705 -0.543592 -0.043811   \n4    레일리   롯데  2.537153  1.227145 -0.306452 -0.585705 -0.543592  0.059433   \n..   ...  ...       ...       ...       ...       ...       ...       ...   \n147  장민재   한화 -0.309907  0.588357 -0.306452 -0.585705  0.680497  0.214300   \n148  정용운  KIA -0.051084 -0.369825 -0.306452 -0.585705 -0.543592 -0.198678   \n149  노경은   롯데 -0.827554 -0.369825 -0.306452 -0.585705 -0.543592 -1.024633   \n150  김승현   삼성 -0.827554 -0.050431 -0.306452 -0.364245 -0.543592  0.627278   \n151  류희운   KT  0.207740  0.268963 -0.306452 -0.585705 -0.543592 -0.250300   \n\n           선발        이닝  ...      홈런/9     BABIP      LOB%       ERA  \\\n0    2.452068  2.645175  ... -0.442382  0.016783  0.446615 -0.587056   \n1    2.349505  2.547755  ... -0.668521 -0.241686 -0.122764 -0.519855   \n2    2.554632  2.706808  ... -0.412886 -0.095595  0.308584 -0.625456   \n3    2.246942  2.350927  ... -0.186746 -0.477680  0.558765 -0.627856   \n4    2.452068  2.587518  ... -0.294900 -0.196735  0.481122 -0.539055   \n..        ...       ...  ...       ...       ...       ...       ...   \n147 -0.112010  0.104300  ...  0.363854  0.162874 -1.002712  0.411349   \n148  0.503369  0.042667  ... -0.147418 -0.871003 -0.269422 -0.030253   \n149 -0.419699 -0.850019  ...  1.219251  0.466294 -1.356417  1.347354   \n150 -0.624825 -0.273451  ...  0.226204  0.005545  0.463869 -0.066253   \n151  0.811058  0.478075  ...  0.776804 -0.320351 -0.278049  0.389749   \n\n      RA9-WAR       FIP      kFIP       WAR  연봉(2018)  연봉(2017)  \n0    3.174630 -0.971030 -1.058125  4.503142    140000  2.734705  \n1    3.114968 -1.061888 -1.073265  4.094734    120000  1.337303  \n2    2.973948 -0.837415 -0.866361  3.761956    230000  5.329881  \n3    2.740722 -0.698455 -0.760385  2.998081    100000  3.333592  \n4    2.751570 -0.612941 -0.619085  2.809003    111000  2.734705  \n..        ...       ...       ...       ...       ...       ...  \n147 -1.229537  0.375810  0.475992 -0.859111      7100 -0.335587  \n148 -0.361721  0.482702  0.622339 -0.874237      7500 -0.535215  \n149 -1.023431  1.348527  1.389397 -0.964995     10000 -0.020173  \n150 -0.790205  0.728554  0.713175 -1.033063      4000 -0.543201  \n151 -0.942073  1.118709  1.147168 -1.267520      4000 -0.539208  \n\n[152 rows x 22 columns]",
      "text/html": "<div>\n<style scoped>\n    .dataframe tbody tr th:only-of-type {\n        vertical-align: middle;\n    }\n\n    .dataframe tbody tr th {\n        vertical-align: top;\n    }\n\n    .dataframe thead th {\n        text-align: right;\n    }\n</style>\n<table border=\"1\" class=\"dataframe\">\n  <thead>\n    <tr style=\"text-align: right;\">\n      <th></th>\n      <th>선수명</th>\n      <th>팀명</th>\n      <th>승</th>\n      <th>패</th>\n      <th>세</th>\n      <th>홀드</th>\n      <th>블론</th>\n      <th>경기</th>\n      <th>선발</th>\n      <th>이닝</th>\n      <th>...</th>\n      <th>홈런/9</th>\n      <th>BABIP</th>\n      <th>LOB%</th>\n      <th>ERA</th>\n      <th>RA9-WAR</th>\n      <th>FIP</th>\n      <th>kFIP</th>\n      <th>WAR</th>\n      <th>연봉(2018)</th>\n      <th>연봉(2017)</th>\n    </tr>\n  </thead>\n  <tbody>\n    <tr>\n      <th>0</th>\n      <td>켈리</td>\n      <td>SK</td>\n      <td>3.313623</td>\n      <td>1.227145</td>\n      <td>-0.306452</td>\n      <td>-0.585705</td>\n      <td>-0.543592</td>\n      <td>0.059433</td>\n      <td>2.452068</td>\n      <td>2.645175</td>\n      <td>...</td>\n      <td>-0.442382</td>\n      <td>0.016783</td>\n      <td>0.446615</td>\n      <td>-0.587056</td>\n      <td>3.174630</td>\n      <td>-0.971030</td>\n      <td>-1.058125</td>\n      <td>4.503142</td>\n      <td>140000</td>\n      <td>2.734705</td>\n    </tr>\n    <tr>\n      <th>1</th>\n      <td>소사</td>\n      <td>LG</td>\n      <td>2.019505</td>\n      <td>2.504721</td>\n      <td>-0.098502</td>\n      <td>-0.585705</td>\n      <td>-0.543592</td>\n      <td>0.059433</td>\n      <td>2.349505</td>\n      <td>2.547755</td>\n      <td>...</td>\n      <td>-0.668521</td>\n      <td>-0.241686</td>\n      <td>-0.122764</td>\n      <td>-0.519855</td>\n      <td>3.114968</td>\n      <td>-1.061888</td>\n      <td>-1.073265</td>\n      <td>4.094734</td>\n      <td>120000</td>\n      <td>1.337303</td>\n    </tr>\n    <tr>\n      <th>2</th>\n      <td>양현종</td>\n      <td>KIA</td>\n      <td>4.348918</td>\n      <td>0.907751</td>\n      <td>-0.306452</td>\n      <td>-0.585705</td>\n      <td>-0.543592</td>\n      <td>0.111056</td>\n      <td>2.554632</td>\n      <td>2.706808</td>\n      <td>...</td>\n      <td>-0.412886</td>\n      <td>-0.095595</td>\n      <td>0.308584</td>\n      <td>-0.625456</td>\n      <td>2.973948</td>\n      <td>-0.837415</td>\n      <td>-0.866361</td>\n      <td>3.761956</td>\n      <td>230000</td>\n      <td>5.329881</td>\n    </tr>\n    <tr>\n      <th>3</th>\n      <td>차우찬</td>\n      <td>LG</td>\n      <td>1.760682</td>\n      <td>1.227145</td>\n      <td>-0.306452</td>\n      <td>-0.585705</td>\n      <td>-0.543592</td>\n      <td>-0.043811</td>\n      <td>2.246942</td>\n      <td>2.350927</td>\n      <td>...</td>\n      <td>-0.186746</td>\n      <td>-0.477680</td>\n      <td>0.558765</td>\n      <td>-0.627856</td>\n      <td>2.740722</td>\n      <td>-0.698455</td>\n      <td>-0.760385</td>\n      <td>2.998081</td>\n      <td>100000</td>\n      <td>3.333592</td>\n    </tr>\n    <tr>\n      <th>4</th>\n      <td>레일리</td>\n      <td>롯데</td>\n      <td>2.537153</td>\n      <td>1.227145</td>\n      <td>-0.306452</td>\n      <td>-0.585705</td>\n      <td>-0.543592</td>\n      <td>0.059433</td>\n      <td>2.452068</td>\n      <td>2.587518</td>\n      <td>...</td>\n      <td>-0.294900</td>\n      <td>-0.196735</td>\n      <td>0.481122</td>\n      <td>-0.539055</td>\n      <td>2.751570</td>\n      <td>-0.612941</td>\n      <td>-0.619085</td>\n      <td>2.809003</td>\n      <td>111000</td>\n      <td>2.734705</td>\n    </tr>\n    <tr>\n      <th>...</th>\n      <td>...</td>\n      <td>...</td>\n      <td>...</td>\n      <td>...</td>\n      <td>...</td>\n      <td>...</td>\n      <td>...</td>\n      <td>...</td>\n      <td>...</td>\n      <td>...</td>\n      <td>...</td>\n      <td>...</td>\n      <td>...</td>\n      <td>...</td>\n      <td>...</td>\n      <td>...</td>\n      <td>...</td>\n      <td>...</td>\n      <td>...</td>\n      <td>...</td>\n      <td>...</td>\n    </tr>\n    <tr>\n      <th>147</th>\n      <td>장민재</td>\n      <td>한화</td>\n      <td>-0.309907</td>\n      <td>0.588357</td>\n      <td>-0.306452</td>\n      <td>-0.585705</td>\n      <td>0.680497</td>\n      <td>0.214300</td>\n      <td>-0.112010</td>\n      <td>0.104300</td>\n      <td>...</td>\n      <td>0.363854</td>\n      <td>0.162874</td>\n      <td>-1.002712</td>\n      <td>0.411349</td>\n      <td>-1.229537</td>\n      <td>0.375810</td>\n      <td>0.475992</td>\n      <td>-0.859111</td>\n      <td>7100</td>\n      <td>-0.335587</td>\n    </tr>\n    <tr>\n      <th>148</th>\n      <td>정용운</td>\n      <td>KIA</td>\n      <td>-0.051084</td>\n      <td>-0.369825</td>\n      <td>-0.306452</td>\n      <td>-0.585705</td>\n      <td>-0.543592</td>\n      <td>-0.198678</td>\n      <td>0.503369</td>\n      <td>0.042667</td>\n      <td>...</td>\n      <td>-0.147418</td>\n      <td>-0.871003</td>\n      <td>-0.269422</td>\n      <td>-0.030253</td>\n      <td>-0.361721</td>\n      <td>0.482702</td>\n      <td>0.622339</td>\n      <td>-0.874237</td>\n      <td>7500</td>\n      <td>-0.535215</td>\n    </tr>\n    <tr>\n      <th>149</th>\n      <td>노경은</td>\n      <td>롯데</td>\n      <td>-0.827554</td>\n      <td>-0.369825</td>\n      <td>-0.306452</td>\n      <td>-0.585705</td>\n      <td>-0.543592</td>\n      <td>-1.024633</td>\n      <td>-0.419699</td>\n      <td>-0.850019</td>\n      <td>...</td>\n      <td>1.219251</td>\n      <td>0.466294</td>\n      <td>-1.356417</td>\n      <td>1.347354</td>\n      <td>-1.023431</td>\n      <td>1.348527</td>\n      <td>1.389397</td>\n      <td>-0.964995</td>\n      <td>10000</td>\n      <td>-0.020173</td>\n    </tr>\n    <tr>\n      <th>150</th>\n      <td>김승현</td>\n      <td>삼성</td>\n      <td>-0.827554</td>\n      <td>-0.050431</td>\n      <td>-0.306452</td>\n      <td>-0.364245</td>\n      <td>-0.543592</td>\n      <td>0.627278</td>\n      <td>-0.624825</td>\n      <td>-0.273451</td>\n      <td>...</td>\n      <td>0.226204</td>\n      <td>0.005545</td>\n      <td>0.463869</td>\n      <td>-0.066253</td>\n      <td>-0.790205</td>\n      <td>0.728554</td>\n      <td>0.713175</td>\n      <td>-1.033063</td>\n      <td>4000</td>\n      <td>-0.543201</td>\n    </tr>\n    <tr>\n      <th>151</th>\n      <td>류희운</td>\n      <td>KT</td>\n      <td>0.207740</td>\n      <td>0.268963</td>\n      <td>-0.306452</td>\n      <td>-0.585705</td>\n      <td>-0.543592</td>\n      <td>-0.250300</td>\n      <td>0.811058</td>\n      <td>0.478075</td>\n      <td>...</td>\n      <td>0.776804</td>\n      <td>-0.320351</td>\n      <td>-0.278049</td>\n      <td>0.389749</td>\n      <td>-0.942073</td>\n      <td>1.118709</td>\n      <td>1.147168</td>\n      <td>-1.267520</td>\n      <td>4000</td>\n      <td>-0.539208</td>\n    </tr>\n  </tbody>\n</table>\n<p>152 rows × 22 columns</p>\n</div>"
     },
     "execution_count": 12,
     "metadata": {},
     "output_type": "execute_result"
    }
   ],
   "source": [
    "scale_columns = ['승', '패', '세', '홀드', '블론', '경기', '선발', '이닝', '삼진/9',\n",
    "       '볼넷/9', '홈런/9', 'BABIP', 'LOB%', 'ERA', 'RA9-WAR', 'FIP', 'kFIP', 'WAR', '연봉(2017)']\n",
    "picher_df = standard_scaling(picher, scale_columns)\n",
    "picher_df"
   ],
   "metadata": {
    "collapsed": false,
    "pycharm": {
     "name": "#%%\n"
    }
   }
  },
  {
   "cell_type": "code",
   "execution_count": 13,
   "outputs": [
    {
     "data": {
      "text/plain": "     선수명   팀명         승         패         세        홀드        블론        경기  \\\n0     켈리   SK  3.313623  1.227145 -0.306452 -0.585705 -0.543592  0.059433   \n1     소사   LG  2.019505  2.504721 -0.098502 -0.585705 -0.543592  0.059433   \n2    양현종  KIA  4.348918  0.907751 -0.306452 -0.585705 -0.543592  0.111056   \n3    차우찬   LG  1.760682  1.227145 -0.306452 -0.585705 -0.543592 -0.043811   \n4    레일리   롯데  2.537153  1.227145 -0.306452 -0.585705 -0.543592  0.059433   \n..   ...  ...       ...       ...       ...       ...       ...       ...   \n147  장민재   한화 -0.309907  0.588357 -0.306452 -0.585705  0.680497  0.214300   \n148  정용운  KIA -0.051084 -0.369825 -0.306452 -0.585705 -0.543592 -0.198678   \n149  노경은   롯데 -0.827554 -0.369825 -0.306452 -0.585705 -0.543592 -1.024633   \n150  김승현   삼성 -0.827554 -0.050431 -0.306452 -0.364245 -0.543592  0.627278   \n151  류희운   KT  0.207740  0.268963 -0.306452 -0.585705 -0.543592 -0.250300   \n\n           선발        이닝  ...      홈런/9     BABIP      LOB%       ERA  \\\n0    2.452068  2.645175  ... -0.442382  0.016783  0.446615 -0.587056   \n1    2.349505  2.547755  ... -0.668521 -0.241686 -0.122764 -0.519855   \n2    2.554632  2.706808  ... -0.412886 -0.095595  0.308584 -0.625456   \n3    2.246942  2.350927  ... -0.186746 -0.477680  0.558765 -0.627856   \n4    2.452068  2.587518  ... -0.294900 -0.196735  0.481122 -0.539055   \n..        ...       ...  ...       ...       ...       ...       ...   \n147 -0.112010  0.104300  ...  0.363854  0.162874 -1.002712  0.411349   \n148  0.503369  0.042667  ... -0.147418 -0.871003 -0.269422 -0.030253   \n149 -0.419699 -0.850019  ...  1.219251  0.466294 -1.356417  1.347354   \n150 -0.624825 -0.273451  ...  0.226204  0.005545  0.463869 -0.066253   \n151  0.811058  0.478075  ...  0.776804 -0.320351 -0.278049  0.389749   \n\n      RA9-WAR       FIP      kFIP       WAR       y  연봉(2017)  \n0    3.174630 -0.971030 -1.058125  4.503142  140000  2.734705  \n1    3.114968 -1.061888 -1.073265  4.094734  120000  1.337303  \n2    2.973948 -0.837415 -0.866361  3.761956  230000  5.329881  \n3    2.740722 -0.698455 -0.760385  2.998081  100000  3.333592  \n4    2.751570 -0.612941 -0.619085  2.809003  111000  2.734705  \n..        ...       ...       ...       ...     ...       ...  \n147 -1.229537  0.375810  0.475992 -0.859111    7100 -0.335587  \n148 -0.361721  0.482702  0.622339 -0.874237    7500 -0.535215  \n149 -1.023431  1.348527  1.389397 -0.964995   10000 -0.020173  \n150 -0.790205  0.728554  0.713175 -1.033063    4000 -0.543201  \n151 -0.942073  1.118709  1.147168 -1.267520    4000 -0.539208  \n\n[152 rows x 22 columns]",
      "text/html": "<div>\n<style scoped>\n    .dataframe tbody tr th:only-of-type {\n        vertical-align: middle;\n    }\n\n    .dataframe tbody tr th {\n        vertical-align: top;\n    }\n\n    .dataframe thead th {\n        text-align: right;\n    }\n</style>\n<table border=\"1\" class=\"dataframe\">\n  <thead>\n    <tr style=\"text-align: right;\">\n      <th></th>\n      <th>선수명</th>\n      <th>팀명</th>\n      <th>승</th>\n      <th>패</th>\n      <th>세</th>\n      <th>홀드</th>\n      <th>블론</th>\n      <th>경기</th>\n      <th>선발</th>\n      <th>이닝</th>\n      <th>...</th>\n      <th>홈런/9</th>\n      <th>BABIP</th>\n      <th>LOB%</th>\n      <th>ERA</th>\n      <th>RA9-WAR</th>\n      <th>FIP</th>\n      <th>kFIP</th>\n      <th>WAR</th>\n      <th>y</th>\n      <th>연봉(2017)</th>\n    </tr>\n  </thead>\n  <tbody>\n    <tr>\n      <th>0</th>\n      <td>켈리</td>\n      <td>SK</td>\n      <td>3.313623</td>\n      <td>1.227145</td>\n      <td>-0.306452</td>\n      <td>-0.585705</td>\n      <td>-0.543592</td>\n      <td>0.059433</td>\n      <td>2.452068</td>\n      <td>2.645175</td>\n      <td>...</td>\n      <td>-0.442382</td>\n      <td>0.016783</td>\n      <td>0.446615</td>\n      <td>-0.587056</td>\n      <td>3.174630</td>\n      <td>-0.971030</td>\n      <td>-1.058125</td>\n      <td>4.503142</td>\n      <td>140000</td>\n      <td>2.734705</td>\n    </tr>\n    <tr>\n      <th>1</th>\n      <td>소사</td>\n      <td>LG</td>\n      <td>2.019505</td>\n      <td>2.504721</td>\n      <td>-0.098502</td>\n      <td>-0.585705</td>\n      <td>-0.543592</td>\n      <td>0.059433</td>\n      <td>2.349505</td>\n      <td>2.547755</td>\n      <td>...</td>\n      <td>-0.668521</td>\n      <td>-0.241686</td>\n      <td>-0.122764</td>\n      <td>-0.519855</td>\n      <td>3.114968</td>\n      <td>-1.061888</td>\n      <td>-1.073265</td>\n      <td>4.094734</td>\n      <td>120000</td>\n      <td>1.337303</td>\n    </tr>\n    <tr>\n      <th>2</th>\n      <td>양현종</td>\n      <td>KIA</td>\n      <td>4.348918</td>\n      <td>0.907751</td>\n      <td>-0.306452</td>\n      <td>-0.585705</td>\n      <td>-0.543592</td>\n      <td>0.111056</td>\n      <td>2.554632</td>\n      <td>2.706808</td>\n      <td>...</td>\n      <td>-0.412886</td>\n      <td>-0.095595</td>\n      <td>0.308584</td>\n      <td>-0.625456</td>\n      <td>2.973948</td>\n      <td>-0.837415</td>\n      <td>-0.866361</td>\n      <td>3.761956</td>\n      <td>230000</td>\n      <td>5.329881</td>\n    </tr>\n    <tr>\n      <th>3</th>\n      <td>차우찬</td>\n      <td>LG</td>\n      <td>1.760682</td>\n      <td>1.227145</td>\n      <td>-0.306452</td>\n      <td>-0.585705</td>\n      <td>-0.543592</td>\n      <td>-0.043811</td>\n      <td>2.246942</td>\n      <td>2.350927</td>\n      <td>...</td>\n      <td>-0.186746</td>\n      <td>-0.477680</td>\n      <td>0.558765</td>\n      <td>-0.627856</td>\n      <td>2.740722</td>\n      <td>-0.698455</td>\n      <td>-0.760385</td>\n      <td>2.998081</td>\n      <td>100000</td>\n      <td>3.333592</td>\n    </tr>\n    <tr>\n      <th>4</th>\n      <td>레일리</td>\n      <td>롯데</td>\n      <td>2.537153</td>\n      <td>1.227145</td>\n      <td>-0.306452</td>\n      <td>-0.585705</td>\n      <td>-0.543592</td>\n      <td>0.059433</td>\n      <td>2.452068</td>\n      <td>2.587518</td>\n      <td>...</td>\n      <td>-0.294900</td>\n      <td>-0.196735</td>\n      <td>0.481122</td>\n      <td>-0.539055</td>\n      <td>2.751570</td>\n      <td>-0.612941</td>\n      <td>-0.619085</td>\n      <td>2.809003</td>\n      <td>111000</td>\n      <td>2.734705</td>\n    </tr>\n    <tr>\n      <th>...</th>\n      <td>...</td>\n      <td>...</td>\n      <td>...</td>\n      <td>...</td>\n      <td>...</td>\n      <td>...</td>\n      <td>...</td>\n      <td>...</td>\n      <td>...</td>\n      <td>...</td>\n      <td>...</td>\n      <td>...</td>\n      <td>...</td>\n      <td>...</td>\n      <td>...</td>\n      <td>...</td>\n      <td>...</td>\n      <td>...</td>\n      <td>...</td>\n      <td>...</td>\n      <td>...</td>\n    </tr>\n    <tr>\n      <th>147</th>\n      <td>장민재</td>\n      <td>한화</td>\n      <td>-0.309907</td>\n      <td>0.588357</td>\n      <td>-0.306452</td>\n      <td>-0.585705</td>\n      <td>0.680497</td>\n      <td>0.214300</td>\n      <td>-0.112010</td>\n      <td>0.104300</td>\n      <td>...</td>\n      <td>0.363854</td>\n      <td>0.162874</td>\n      <td>-1.002712</td>\n      <td>0.411349</td>\n      <td>-1.229537</td>\n      <td>0.375810</td>\n      <td>0.475992</td>\n      <td>-0.859111</td>\n      <td>7100</td>\n      <td>-0.335587</td>\n    </tr>\n    <tr>\n      <th>148</th>\n      <td>정용운</td>\n      <td>KIA</td>\n      <td>-0.051084</td>\n      <td>-0.369825</td>\n      <td>-0.306452</td>\n      <td>-0.585705</td>\n      <td>-0.543592</td>\n      <td>-0.198678</td>\n      <td>0.503369</td>\n      <td>0.042667</td>\n      <td>...</td>\n      <td>-0.147418</td>\n      <td>-0.871003</td>\n      <td>-0.269422</td>\n      <td>-0.030253</td>\n      <td>-0.361721</td>\n      <td>0.482702</td>\n      <td>0.622339</td>\n      <td>-0.874237</td>\n      <td>7500</td>\n      <td>-0.535215</td>\n    </tr>\n    <tr>\n      <th>149</th>\n      <td>노경은</td>\n      <td>롯데</td>\n      <td>-0.827554</td>\n      <td>-0.369825</td>\n      <td>-0.306452</td>\n      <td>-0.585705</td>\n      <td>-0.543592</td>\n      <td>-1.024633</td>\n      <td>-0.419699</td>\n      <td>-0.850019</td>\n      <td>...</td>\n      <td>1.219251</td>\n      <td>0.466294</td>\n      <td>-1.356417</td>\n      <td>1.347354</td>\n      <td>-1.023431</td>\n      <td>1.348527</td>\n      <td>1.389397</td>\n      <td>-0.964995</td>\n      <td>10000</td>\n      <td>-0.020173</td>\n    </tr>\n    <tr>\n      <th>150</th>\n      <td>김승현</td>\n      <td>삼성</td>\n      <td>-0.827554</td>\n      <td>-0.050431</td>\n      <td>-0.306452</td>\n      <td>-0.364245</td>\n      <td>-0.543592</td>\n      <td>0.627278</td>\n      <td>-0.624825</td>\n      <td>-0.273451</td>\n      <td>...</td>\n      <td>0.226204</td>\n      <td>0.005545</td>\n      <td>0.463869</td>\n      <td>-0.066253</td>\n      <td>-0.790205</td>\n      <td>0.728554</td>\n      <td>0.713175</td>\n      <td>-1.033063</td>\n      <td>4000</td>\n      <td>-0.543201</td>\n    </tr>\n    <tr>\n      <th>151</th>\n      <td>류희운</td>\n      <td>KT</td>\n      <td>0.207740</td>\n      <td>0.268963</td>\n      <td>-0.306452</td>\n      <td>-0.585705</td>\n      <td>-0.543592</td>\n      <td>-0.250300</td>\n      <td>0.811058</td>\n      <td>0.478075</td>\n      <td>...</td>\n      <td>0.776804</td>\n      <td>-0.320351</td>\n      <td>-0.278049</td>\n      <td>0.389749</td>\n      <td>-0.942073</td>\n      <td>1.118709</td>\n      <td>1.147168</td>\n      <td>-1.267520</td>\n      <td>4000</td>\n      <td>-0.539208</td>\n    </tr>\n  </tbody>\n</table>\n<p>152 rows × 22 columns</p>\n</div>"
     },
     "execution_count": 13,
     "metadata": {},
     "output_type": "execute_result"
    }
   ],
   "source": [
    "picher_df=picher_df.rename(columns={'연봉(2018)' : 'y'})\n",
    "picher_df"
   ],
   "metadata": {
    "collapsed": false,
    "pycharm": {
     "name": "#%%\n"
    }
   }
  },
  {
   "cell_type": "code",
   "execution_count": 14,
   "outputs": [],
   "source": [
    "# 데이터 정제과정\n",
    "picher_df = picher_df.drop('선수명', axis=1)"
   ],
   "metadata": {
    "collapsed": false,
    "pycharm": {
     "name": "#%%\n"
    }
   }
  },
  {
   "cell_type": "code",
   "execution_count": 15,
   "outputs": [
    {
     "data": {
      "text/plain": "     KIA  KT  LG  NC  SK  두산  롯데  삼성  한화\n0      0   0   0   0   1   0   0   0   0\n1      0   0   1   0   0   0   0   0   0\n2      1   0   0   0   0   0   0   0   0\n3      0   0   1   0   0   0   0   0   0\n4      0   0   0   0   0   0   1   0   0\n..   ...  ..  ..  ..  ..  ..  ..  ..  ..\n147    0   0   0   0   0   0   0   0   1\n148    1   0   0   0   0   0   0   0   0\n149    0   0   0   0   0   0   1   0   0\n150    0   0   0   0   0   0   0   1   0\n151    0   1   0   0   0   0   0   0   0\n\n[152 rows x 9 columns]",
      "text/html": "<div>\n<style scoped>\n    .dataframe tbody tr th:only-of-type {\n        vertical-align: middle;\n    }\n\n    .dataframe tbody tr th {\n        vertical-align: top;\n    }\n\n    .dataframe thead th {\n        text-align: right;\n    }\n</style>\n<table border=\"1\" class=\"dataframe\">\n  <thead>\n    <tr style=\"text-align: right;\">\n      <th></th>\n      <th>KIA</th>\n      <th>KT</th>\n      <th>LG</th>\n      <th>NC</th>\n      <th>SK</th>\n      <th>두산</th>\n      <th>롯데</th>\n      <th>삼성</th>\n      <th>한화</th>\n    </tr>\n  </thead>\n  <tbody>\n    <tr>\n      <th>0</th>\n      <td>0</td>\n      <td>0</td>\n      <td>0</td>\n      <td>0</td>\n      <td>1</td>\n      <td>0</td>\n      <td>0</td>\n      <td>0</td>\n      <td>0</td>\n    </tr>\n    <tr>\n      <th>1</th>\n      <td>0</td>\n      <td>0</td>\n      <td>1</td>\n      <td>0</td>\n      <td>0</td>\n      <td>0</td>\n      <td>0</td>\n      <td>0</td>\n      <td>0</td>\n    </tr>\n    <tr>\n      <th>2</th>\n      <td>1</td>\n      <td>0</td>\n      <td>0</td>\n      <td>0</td>\n      <td>0</td>\n      <td>0</td>\n      <td>0</td>\n      <td>0</td>\n      <td>0</td>\n    </tr>\n    <tr>\n      <th>3</th>\n      <td>0</td>\n      <td>0</td>\n      <td>1</td>\n      <td>0</td>\n      <td>0</td>\n      <td>0</td>\n      <td>0</td>\n      <td>0</td>\n      <td>0</td>\n    </tr>\n    <tr>\n      <th>4</th>\n      <td>0</td>\n      <td>0</td>\n      <td>0</td>\n      <td>0</td>\n      <td>0</td>\n      <td>0</td>\n      <td>1</td>\n      <td>0</td>\n      <td>0</td>\n    </tr>\n    <tr>\n      <th>...</th>\n      <td>...</td>\n      <td>...</td>\n      <td>...</td>\n      <td>...</td>\n      <td>...</td>\n      <td>...</td>\n      <td>...</td>\n      <td>...</td>\n      <td>...</td>\n    </tr>\n    <tr>\n      <th>147</th>\n      <td>0</td>\n      <td>0</td>\n      <td>0</td>\n      <td>0</td>\n      <td>0</td>\n      <td>0</td>\n      <td>0</td>\n      <td>0</td>\n      <td>1</td>\n    </tr>\n    <tr>\n      <th>148</th>\n      <td>1</td>\n      <td>0</td>\n      <td>0</td>\n      <td>0</td>\n      <td>0</td>\n      <td>0</td>\n      <td>0</td>\n      <td>0</td>\n      <td>0</td>\n    </tr>\n    <tr>\n      <th>149</th>\n      <td>0</td>\n      <td>0</td>\n      <td>0</td>\n      <td>0</td>\n      <td>0</td>\n      <td>0</td>\n      <td>1</td>\n      <td>0</td>\n      <td>0</td>\n    </tr>\n    <tr>\n      <th>150</th>\n      <td>0</td>\n      <td>0</td>\n      <td>0</td>\n      <td>0</td>\n      <td>0</td>\n      <td>0</td>\n      <td>0</td>\n      <td>1</td>\n      <td>0</td>\n    </tr>\n    <tr>\n      <th>151</th>\n      <td>0</td>\n      <td>1</td>\n      <td>0</td>\n      <td>0</td>\n      <td>0</td>\n      <td>0</td>\n      <td>0</td>\n      <td>0</td>\n      <td>0</td>\n    </tr>\n  </tbody>\n</table>\n<p>152 rows × 9 columns</p>\n</div>"
     },
     "execution_count": 15,
     "metadata": {},
     "output_type": "execute_result"
    }
   ],
   "source": [
    "team_encoding = pd.get_dummies(picher_df['팀명'])\n",
    "\n",
    "#더미로 만든 뒤 '팀명'은 필요가 없어졌으니 삭제\n",
    "picher_df = picher_df.drop('팀명', axis=1)\n",
    "team_encoding"
   ],
   "metadata": {
    "collapsed": false,
    "pycharm": {
     "name": "#%%\n"
    }
   }
  },
  {
   "cell_type": "code",
   "execution_count": 16,
   "outputs": [
    {
     "data": {
      "text/plain": "            승         패         세        홀드        블론        경기        선발  \\\n0    3.313623  1.227145 -0.306452 -0.585705 -0.543592  0.059433  2.452068   \n1    2.019505  2.504721 -0.098502 -0.585705 -0.543592  0.059433  2.349505   \n2    4.348918  0.907751 -0.306452 -0.585705 -0.543592  0.111056  2.554632   \n3    1.760682  1.227145 -0.306452 -0.585705 -0.543592 -0.043811  2.246942   \n4    2.537153  1.227145 -0.306452 -0.585705 -0.543592  0.059433  2.452068   \n..        ...       ...       ...       ...       ...       ...       ...   \n147 -0.309907  0.588357 -0.306452 -0.585705  0.680497  0.214300 -0.112010   \n148 -0.051084 -0.369825 -0.306452 -0.585705 -0.543592 -0.198678  0.503369   \n149 -0.827554 -0.369825 -0.306452 -0.585705 -0.543592 -1.024633 -0.419699   \n150 -0.827554 -0.050431 -0.306452 -0.364245 -0.543592  0.627278 -0.624825   \n151  0.207740  0.268963 -0.306452 -0.585705 -0.543592 -0.250300  0.811058   \n\n           이닝      삼진/9      볼넷/9  ...  연봉(2017)  KIA  KT  LG  NC  SK  두산  롯데  \\\n0    2.645175  0.672099 -0.869000  ...  2.734705    0   0   0   0   1   0   0   \n1    2.547755  0.134531 -0.987502  ...  1.337303    0   0   1   0   0   0   0   \n2    2.706808  0.109775 -0.885929  ...  5.329881    1   0   0   0   0   0   0   \n3    2.350927  0.350266 -0.945180  ...  3.333592    0   0   1   0   0   0   0   \n4    2.587518  0.155751 -0.877464  ...  2.734705    0   0   0   0   0   0   1   \n..        ...       ...       ...  ...       ...  ...  ..  ..  ..  ..  ..  ..   \n147  0.104300 -0.968896 -0.373829  ... -0.335587    0   0   0   0   0   0   0   \n148  0.042667 -0.777918  0.603817  ... -0.535215    1   0   0   0   0   0   0   \n149 -0.850019 -0.756699  0.307561  ... -0.020173    0   0   0   0   0   0   1   \n150 -0.273451  0.205264  1.196330  ... -0.543201    0   0   0   0   0   0   0   \n151  0.478075 -0.449012  0.722320  ... -0.539208    0   1   0   0   0   0   0   \n\n     삼성  한화  \n0     0   0  \n1     0   0  \n2     0   0  \n3     0   0  \n4     0   0  \n..   ..  ..  \n147   0   1  \n148   0   0  \n149   0   0  \n150   1   0  \n151   0   0  \n\n[152 rows x 29 columns]",
      "text/html": "<div>\n<style scoped>\n    .dataframe tbody tr th:only-of-type {\n        vertical-align: middle;\n    }\n\n    .dataframe tbody tr th {\n        vertical-align: top;\n    }\n\n    .dataframe thead th {\n        text-align: right;\n    }\n</style>\n<table border=\"1\" class=\"dataframe\">\n  <thead>\n    <tr style=\"text-align: right;\">\n      <th></th>\n      <th>승</th>\n      <th>패</th>\n      <th>세</th>\n      <th>홀드</th>\n      <th>블론</th>\n      <th>경기</th>\n      <th>선발</th>\n      <th>이닝</th>\n      <th>삼진/9</th>\n      <th>볼넷/9</th>\n      <th>...</th>\n      <th>연봉(2017)</th>\n      <th>KIA</th>\n      <th>KT</th>\n      <th>LG</th>\n      <th>NC</th>\n      <th>SK</th>\n      <th>두산</th>\n      <th>롯데</th>\n      <th>삼성</th>\n      <th>한화</th>\n    </tr>\n  </thead>\n  <tbody>\n    <tr>\n      <th>0</th>\n      <td>3.313623</td>\n      <td>1.227145</td>\n      <td>-0.306452</td>\n      <td>-0.585705</td>\n      <td>-0.543592</td>\n      <td>0.059433</td>\n      <td>2.452068</td>\n      <td>2.645175</td>\n      <td>0.672099</td>\n      <td>-0.869000</td>\n      <td>...</td>\n      <td>2.734705</td>\n      <td>0</td>\n      <td>0</td>\n      <td>0</td>\n      <td>0</td>\n      <td>1</td>\n      <td>0</td>\n      <td>0</td>\n      <td>0</td>\n      <td>0</td>\n    </tr>\n    <tr>\n      <th>1</th>\n      <td>2.019505</td>\n      <td>2.504721</td>\n      <td>-0.098502</td>\n      <td>-0.585705</td>\n      <td>-0.543592</td>\n      <td>0.059433</td>\n      <td>2.349505</td>\n      <td>2.547755</td>\n      <td>0.134531</td>\n      <td>-0.987502</td>\n      <td>...</td>\n      <td>1.337303</td>\n      <td>0</td>\n      <td>0</td>\n      <td>1</td>\n      <td>0</td>\n      <td>0</td>\n      <td>0</td>\n      <td>0</td>\n      <td>0</td>\n      <td>0</td>\n    </tr>\n    <tr>\n      <th>2</th>\n      <td>4.348918</td>\n      <td>0.907751</td>\n      <td>-0.306452</td>\n      <td>-0.585705</td>\n      <td>-0.543592</td>\n      <td>0.111056</td>\n      <td>2.554632</td>\n      <td>2.706808</td>\n      <td>0.109775</td>\n      <td>-0.885929</td>\n      <td>...</td>\n      <td>5.329881</td>\n      <td>1</td>\n      <td>0</td>\n      <td>0</td>\n      <td>0</td>\n      <td>0</td>\n      <td>0</td>\n      <td>0</td>\n      <td>0</td>\n      <td>0</td>\n    </tr>\n    <tr>\n      <th>3</th>\n      <td>1.760682</td>\n      <td>1.227145</td>\n      <td>-0.306452</td>\n      <td>-0.585705</td>\n      <td>-0.543592</td>\n      <td>-0.043811</td>\n      <td>2.246942</td>\n      <td>2.350927</td>\n      <td>0.350266</td>\n      <td>-0.945180</td>\n      <td>...</td>\n      <td>3.333592</td>\n      <td>0</td>\n      <td>0</td>\n      <td>1</td>\n      <td>0</td>\n      <td>0</td>\n      <td>0</td>\n      <td>0</td>\n      <td>0</td>\n      <td>0</td>\n    </tr>\n    <tr>\n      <th>4</th>\n      <td>2.537153</td>\n      <td>1.227145</td>\n      <td>-0.306452</td>\n      <td>-0.585705</td>\n      <td>-0.543592</td>\n      <td>0.059433</td>\n      <td>2.452068</td>\n      <td>2.587518</td>\n      <td>0.155751</td>\n      <td>-0.877464</td>\n      <td>...</td>\n      <td>2.734705</td>\n      <td>0</td>\n      <td>0</td>\n      <td>0</td>\n      <td>0</td>\n      <td>0</td>\n      <td>0</td>\n      <td>1</td>\n      <td>0</td>\n      <td>0</td>\n    </tr>\n    <tr>\n      <th>...</th>\n      <td>...</td>\n      <td>...</td>\n      <td>...</td>\n      <td>...</td>\n      <td>...</td>\n      <td>...</td>\n      <td>...</td>\n      <td>...</td>\n      <td>...</td>\n      <td>...</td>\n      <td>...</td>\n      <td>...</td>\n      <td>...</td>\n      <td>...</td>\n      <td>...</td>\n      <td>...</td>\n      <td>...</td>\n      <td>...</td>\n      <td>...</td>\n      <td>...</td>\n      <td>...</td>\n    </tr>\n    <tr>\n      <th>147</th>\n      <td>-0.309907</td>\n      <td>0.588357</td>\n      <td>-0.306452</td>\n      <td>-0.585705</td>\n      <td>0.680497</td>\n      <td>0.214300</td>\n      <td>-0.112010</td>\n      <td>0.104300</td>\n      <td>-0.968896</td>\n      <td>-0.373829</td>\n      <td>...</td>\n      <td>-0.335587</td>\n      <td>0</td>\n      <td>0</td>\n      <td>0</td>\n      <td>0</td>\n      <td>0</td>\n      <td>0</td>\n      <td>0</td>\n      <td>0</td>\n      <td>1</td>\n    </tr>\n    <tr>\n      <th>148</th>\n      <td>-0.051084</td>\n      <td>-0.369825</td>\n      <td>-0.306452</td>\n      <td>-0.585705</td>\n      <td>-0.543592</td>\n      <td>-0.198678</td>\n      <td>0.503369</td>\n      <td>0.042667</td>\n      <td>-0.777918</td>\n      <td>0.603817</td>\n      <td>...</td>\n      <td>-0.535215</td>\n      <td>1</td>\n      <td>0</td>\n      <td>0</td>\n      <td>0</td>\n      <td>0</td>\n      <td>0</td>\n      <td>0</td>\n      <td>0</td>\n      <td>0</td>\n    </tr>\n    <tr>\n      <th>149</th>\n      <td>-0.827554</td>\n      <td>-0.369825</td>\n      <td>-0.306452</td>\n      <td>-0.585705</td>\n      <td>-0.543592</td>\n      <td>-1.024633</td>\n      <td>-0.419699</td>\n      <td>-0.850019</td>\n      <td>-0.756699</td>\n      <td>0.307561</td>\n      <td>...</td>\n      <td>-0.020173</td>\n      <td>0</td>\n      <td>0</td>\n      <td>0</td>\n      <td>0</td>\n      <td>0</td>\n      <td>0</td>\n      <td>1</td>\n      <td>0</td>\n      <td>0</td>\n    </tr>\n    <tr>\n      <th>150</th>\n      <td>-0.827554</td>\n      <td>-0.050431</td>\n      <td>-0.306452</td>\n      <td>-0.364245</td>\n      <td>-0.543592</td>\n      <td>0.627278</td>\n      <td>-0.624825</td>\n      <td>-0.273451</td>\n      <td>0.205264</td>\n      <td>1.196330</td>\n      <td>...</td>\n      <td>-0.543201</td>\n      <td>0</td>\n      <td>0</td>\n      <td>0</td>\n      <td>0</td>\n      <td>0</td>\n      <td>0</td>\n      <td>0</td>\n      <td>1</td>\n      <td>0</td>\n    </tr>\n    <tr>\n      <th>151</th>\n      <td>0.207740</td>\n      <td>0.268963</td>\n      <td>-0.306452</td>\n      <td>-0.585705</td>\n      <td>-0.543592</td>\n      <td>-0.250300</td>\n      <td>0.811058</td>\n      <td>0.478075</td>\n      <td>-0.449012</td>\n      <td>0.722320</td>\n      <td>...</td>\n      <td>-0.539208</td>\n      <td>0</td>\n      <td>1</td>\n      <td>0</td>\n      <td>0</td>\n      <td>0</td>\n      <td>0</td>\n      <td>0</td>\n      <td>0</td>\n      <td>0</td>\n    </tr>\n  </tbody>\n</table>\n<p>152 rows × 29 columns</p>\n</div>"
     },
     "execution_count": 16,
     "metadata": {},
     "output_type": "execute_result"
    }
   ],
   "source": [
    "picher_df.join(team_encoding)"
   ],
   "metadata": {
    "collapsed": false,
    "pycharm": {
     "name": "#%%\n"
    }
   }
  },
  {
   "cell_type": "markdown",
   "source": [
    "## 회귀분석 진행\n",
    "- 학습데이터 (80%), 검증데이터 (20%)"
   ],
   "metadata": {
    "collapsed": false,
    "pycharm": {
     "name": "#%% md\n"
    }
   }
  },
  {
   "cell_type": "code",
   "execution_count": 17,
   "outputs": [],
   "source": [
    "from sklearn import linear_model\n",
    "from sklearn.model_selection import train_test_split\n",
    "from sklearn.metrics import mean_squared_error\n",
    "from math import sqrt"
   ],
   "metadata": {
    "collapsed": false,
    "pycharm": {
     "name": "#%%\n"
    }
   }
  },
  {
   "cell_type": "code",
   "execution_count": 18,
   "outputs": [],
   "source": [
    "x = picher_df[picher_df.columns.difference(['선수명', 'y'])]\n",
    "y = picher_df['y']\n",
    "x_train, x_text, y_train, y_test = train_test_split(x, y, test_size=0.2, random_state=19)\n",
    "# test_size : 검증 (20%만 하겠다)"
   ],
   "metadata": {
    "collapsed": false,
    "pycharm": {
     "name": "#%%\n"
    }
   }
  },
  {
   "cell_type": "code",
   "execution_count": 19,
   "outputs": [],
   "source": [
    "ir = linear_model.LinearRegression()\n",
    "model = ir.fit(x_train, y_train)"
   ],
   "metadata": {
    "collapsed": false,
    "pycharm": {
     "name": "#%%\n"
    }
   }
  },
  {
   "cell_type": "code",
   "execution_count": 20,
   "outputs": [
    {
     "name": "stdout",
     "output_type": "stream",
     "text": [
      "[ -1294.53459208   -298.40705653 -84759.52189929  -1178.69920284\n",
      "   3736.80528617  10234.97461011  69998.46903908  -2442.03978171\n",
      "   6505.72426993   1491.62486376   4815.1162816   -5439.14323109\n",
      "   -396.32170872   -379.83698124  19160.89939193   1707.22866561\n",
      "   1665.17642611  -1092.43099242  16452.88104238]\n"
     ]
    }
   ],
   "source": [
    "print(ir.coef_) # 학습된 계수 출력 (기울기)"
   ],
   "metadata": {
    "collapsed": false,
    "pycharm": {
     "name": "#%%\n"
    }
   }
  },
  {
   "cell_type": "code",
   "execution_count": 21,
   "outputs": [
    {
     "name": "stdout",
     "output_type": "stream",
     "text": [
      "18772.443838483523\n"
     ]
    }
   ],
   "source": [
    "print(ir.intercept_)    # 상수항 출력 (절편)"
   ],
   "metadata": {
    "collapsed": false,
    "pycharm": {
     "name": "#%%\n"
    }
   }
  },
  {
   "cell_type": "code",
   "execution_count": 22,
   "outputs": [
    {
     "name": "stdout",
     "output_type": "stream",
     "text": [
      "<class 'pandas.core.series.Series'>\n"
     ]
    }
   ],
   "source": [
    "x_new = x_text\n",
    "y_new = model.predict(x_new)\n",
    "print(type(y_test))"
   ],
   "metadata": {
    "collapsed": false,
    "pycharm": {
     "name": "#%%\n"
    }
   }
  },
  {
   "cell_type": "code",
   "execution_count": 23,
   "outputs": [],
   "source": [
    "y_compare={'y_test':y_test, 'y_predicted':y_new}\n",
    "y_compare = pd.DataFrame(y_compare)"
   ],
   "metadata": {
    "collapsed": false,
    "pycharm": {
     "name": "#%%\n"
    }
   }
  },
  {
   "cell_type": "code",
   "execution_count": 24,
   "outputs": [
    {
     "data": {
      "text/plain": "<AxesSubplot:>"
     },
     "execution_count": 24,
     "metadata": {},
     "output_type": "execute_result"
    },
    {
     "data": {
      "text/plain": "<Figure size 432x288 with 1 Axes>",
      "image/png": "[encoded data removed]"
     },
     "metadata": {
      "needs_background": "light"
     },
     "output_type": "display_data"
    }
   ],
   "source": [
    "mpl.rc('font', family='Batang')\n",
    "y_compare.plot(y=['y_test', 'y_predicted'], kind=\"bar\")"
   ],
   "metadata": {
    "collapsed": false,
    "pycharm": {
     "name": "#%%\n"
    }
   }
  },
  {
   "cell_type": "code",
   "execution_count": 25,
   "outputs": [
    {
     "data": {
      "text/plain": "        BABIP       ERA       FIP      LOB%   RA9-WAR       WAR      kFIP  \\\n94   0.544959  0.708951 -0.548806 -2.460666 -0.665457 -0.488518 -0.492924   \n118 -0.016931 -0.611056  0.386499  1.404205 -0.410536 -0.564149  0.390203   \n109 -0.185498  0.399349  1.022507 -0.079629 -0.584099 -0.541460  1.056332   \n5   -0.578820 -0.721456 -0.580874  0.653661  2.963100  2.476226 -0.614039   \n75  -0.084357  0.245749 -0.067792 -1.002712 -0.594947 -0.405324 -0.008466   \n..        ...       ...       ...       ...       ...       ...       ...   \n52   0.095447 -0.260654 -0.490016  0.179179  0.289141 -0.148177 -0.381902   \n19  -0.331589 -0.927857 -0.971030  1.844180  1.547475  0.872844 -1.093450   \n98  -0.084357  0.168948 -0.062447 -0.683515 -0.638337 -0.503644  0.021813   \n110 -0.016931  0.140148  0.541493  0.187806 -0.372569 -0.541460  0.521410   \n93  -3.826542 -1.451060 -0.415191  2.715501 -0.529860 -0.488518 -0.467692   \n\n           경기      볼넷/9        블론      삼진/9        선발         세         승  \\\n94  -1.334367  1.086292 -0.543592 -0.105959 -0.624825 -0.306452 -0.827554   \n118 -0.869767 -0.712407 -0.543592 -0.548038 -0.624825 -0.306452 -0.827554   \n109 -1.231122  1.492586 -0.543592 -0.311084 -0.317136 -0.306452 -0.568731   \n5   -0.147055 -1.034057 -0.543592  0.130995  2.041816 -0.306452  1.243035   \n75  -0.560033  0.679997 -0.543592 -0.219131 -0.624825 -0.306452 -0.568731   \n..        ...       ...       ...       ...       ...       ...       ...   \n52   2.072700 -0.830910 -0.543592 -0.601087 -0.624825 -0.306452  0.984211   \n19   1.659722 -1.093308  2.516629  0.689782 -0.624825  7.387680 -0.568731   \n98  -0.405167 -0.102966 -0.543592 -0.204985 -0.317136 -0.306452 -0.568731   \n110  0.988633  0.134039  1.292541 -0.063520 -0.624825  1.357144 -0.309907   \n93  -1.334367  2.038544 -0.543592  0.689782 -0.624825 -0.306452 -0.827554   \n\n     연봉(2017)        이닝         패        홀드      홈런/9  \n94  -0.463349 -1.052812 -1.008613 -0.585705 -1.189625  \n118 -0.499282 -0.774469 -1.008613 -0.364245  0.776804  \n109 -0.547193 -0.909664 -0.689219 -0.585705  0.324526  \n5    0.738417  2.048726  2.185327 -0.585705 -0.088425  \n75  -0.459357 -0.853995 -0.689219  0.300137 -0.560368  \n..        ...       ...       ...       ...       ...  \n52  -0.259728  0.239495  0.268963  1.850362 -0.422718  \n19   2.135819  0.100324 -0.050431 -0.585705 -0.186746  \n98  -0.551186 -0.496126 -0.689219 -0.585705 -0.363725  \n110  0.179456 -0.376836  0.907751  1.407441  0.668651  \n93  -0.551186 -1.092575 -1.008613 -0.585705 -1.189625  \n\n[121 rows x 19 columns]",
      "text/html": "<div>\n<style scoped>\n    .dataframe tbody tr th:only-of-type {\n        vertical-align: middle;\n    }\n\n    .dataframe tbody tr th {\n        vertical-align: top;\n    }\n\n    .dataframe thead th {\n        text-align: right;\n    }\n</style>\n<table border=\"1\" class=\"dataframe\">\n  <thead>\n    <tr style=\"text-align: right;\">\n      <th></th>\n      <th>BABIP</th>\n      <th>ERA</th>\n      <th>FIP</th>\n      <th>LOB%</th>\n      <th>RA9-WAR</th>\n      <th>WAR</th>\n      <th>kFIP</th>\n      <th>경기</th>\n      <th>볼넷/9</th>\n      <th>블론</th>\n      <th>삼진/9</th>\n      <th>선발</th>\n      <th>세</th>\n      <th>승</th>\n      <th>연봉(2017)</th>\n      <th>이닝</th>\n      <th>패</th>\n      <th>홀드</th>\n      <th>홈런/9</th>\n    </tr>\n  </thead>\n  <tbody>\n    <tr>\n      <th>94</th>\n      <td>0.544959</td>\n      <td>0.708951</td>\n      <td>-0.548806</td>\n      <td>-2.460666</td>\n      <td>-0.665457</td>\n      <td>-0.488518</td>\n      <td>-0.492924</td>\n      <td>-1.334367</td>\n      <td>1.086292</td>\n      <td>-0.543592</td>\n      <td>-0.105959</td>\n      <td>-0.624825</td>\n      <td>-0.306452</td>\n      <td>-0.827554</td>\n      <td>-0.463349</td>\n      <td>-1.052812</td>\n      <td>-1.008613</td>\n      <td>-0.585705</td>\n      <td>-1.189625</td>\n    </tr>\n    <tr>\n      <th>118</th>\n      <td>-0.016931</td>\n      <td>-0.611056</td>\n      <td>0.386499</td>\n      <td>1.404205</td>\n      <td>-0.410536</td>\n      <td>-0.564149</td>\n      <td>0.390203</td>\n      <td>-0.869767</td>\n      <td>-0.712407</td>\n      <td>-0.543592</td>\n      <td>-0.548038</td>\n      <td>-0.624825</td>\n      <td>-0.306452</td>\n      <td>-0.827554</td>\n      <td>-0.499282</td>\n      <td>-0.774469</td>\n      <td>-1.008613</td>\n      <td>-0.364245</td>\n      <td>0.776804</td>\n    </tr>\n    <tr>\n      <th>109</th>\n      <td>-0.185498</td>\n      <td>0.399349</td>\n      <td>1.022507</td>\n      <td>-0.079629</td>\n      <td>-0.584099</td>\n      <td>-0.541460</td>\n      <td>1.056332</td>\n      <td>-1.231122</td>\n      <td>1.492586</td>\n      <td>-0.543592</td>\n      <td>-0.311084</td>\n      <td>-0.317136</td>\n      <td>-0.306452</td>\n      <td>-0.568731</td>\n      <td>-0.547193</td>\n      <td>-0.909664</td>\n      <td>-0.689219</td>\n      <td>-0.585705</td>\n      <td>0.324526</td>\n    </tr>\n    <tr>\n      <th>5</th>\n      <td>-0.578820</td>\n      <td>-0.721456</td>\n      <td>-0.580874</td>\n      <td>0.653661</td>\n      <td>2.963100</td>\n      <td>2.476226</td>\n      <td>-0.614039</td>\n      <td>-0.147055</td>\n      <td>-1.034057</td>\n      <td>-0.543592</td>\n      <td>0.130995</td>\n      <td>2.041816</td>\n      <td>-0.306452</td>\n      <td>1.243035</td>\n      <td>0.738417</td>\n      <td>2.048726</td>\n      <td>2.185327</td>\n      <td>-0.585705</td>\n      <td>-0.088425</td>\n    </tr>\n    <tr>\n      <th>75</th>\n      <td>-0.084357</td>\n      <td>0.245749</td>\n      <td>-0.067792</td>\n      <td>-1.002712</td>\n      <td>-0.594947</td>\n      <td>-0.405324</td>\n      <td>-0.008466</td>\n      <td>-0.560033</td>\n      <td>0.679997</td>\n      <td>-0.543592</td>\n      <td>-0.219131</td>\n      <td>-0.624825</td>\n      <td>-0.306452</td>\n      <td>-0.568731</td>\n      <td>-0.459357</td>\n      <td>-0.853995</td>\n      <td>-0.689219</td>\n      <td>0.300137</td>\n      <td>-0.560368</td>\n    </tr>\n    <tr>\n      <th>...</th>\n      <td>...</td>\n      <td>...</td>\n      <td>...</td>\n      <td>...</td>\n      <td>...</td>\n      <td>...</td>\n      <td>...</td>\n      <td>...</td>\n      <td>...</td>\n      <td>...</td>\n      <td>...</td>\n      <td>...</td>\n      <td>...</td>\n      <td>...</td>\n      <td>...</td>\n      <td>...</td>\n      <td>...</td>\n      <td>...</td>\n      <td>...</td>\n    </tr>\n    <tr>\n      <th>52</th>\n      <td>0.095447</td>\n      <td>-0.260654</td>\n      <td>-0.490016</td>\n      <td>0.179179</td>\n      <td>0.289141</td>\n      <td>-0.148177</td>\n      <td>-0.381902</td>\n      <td>2.072700</td>\n      <td>-0.830910</td>\n      <td>-0.543592</td>\n      <td>-0.601087</td>\n      <td>-0.624825</td>\n      <td>-0.306452</td>\n      <td>0.984211</td>\n      <td>-0.259728</td>\n      <td>0.239495</td>\n      <td>0.268963</td>\n      <td>1.850362</td>\n      <td>-0.422718</td>\n    </tr>\n    <tr>\n      <th>19</th>\n      <td>-0.331589</td>\n      <td>-0.927857</td>\n      <td>-0.971030</td>\n      <td>1.844180</td>\n      <td>1.547475</td>\n      <td>0.872844</td>\n      <td>-1.093450</td>\n      <td>1.659722</td>\n      <td>-1.093308</td>\n      <td>2.516629</td>\n      <td>0.689782</td>\n      <td>-0.624825</td>\n      <td>7.387680</td>\n      <td>-0.568731</td>\n      <td>2.135819</td>\n      <td>0.100324</td>\n      <td>-0.050431</td>\n      <td>-0.585705</td>\n      <td>-0.186746</td>\n    </tr>\n    <tr>\n      <th>98</th>\n      <td>-0.084357</td>\n      <td>0.168948</td>\n      <td>-0.062447</td>\n      <td>-0.683515</td>\n      <td>-0.638337</td>\n      <td>-0.503644</td>\n      <td>0.021813</td>\n      <td>-0.405167</td>\n      <td>-0.102966</td>\n      <td>-0.543592</td>\n      <td>-0.204985</td>\n      <td>-0.317136</td>\n      <td>-0.306452</td>\n      <td>-0.568731</td>\n      <td>-0.551186</td>\n      <td>-0.496126</td>\n      <td>-0.689219</td>\n      <td>-0.585705</td>\n      <td>-0.363725</td>\n    </tr>\n    <tr>\n      <th>110</th>\n      <td>-0.016931</td>\n      <td>0.140148</td>\n      <td>0.541493</td>\n      <td>0.187806</td>\n      <td>-0.372569</td>\n      <td>-0.541460</td>\n      <td>0.521410</td>\n      <td>0.988633</td>\n      <td>0.134039</td>\n      <td>1.292541</td>\n      <td>-0.063520</td>\n      <td>-0.624825</td>\n      <td>1.357144</td>\n      <td>-0.309907</td>\n      <td>0.179456</td>\n      <td>-0.376836</td>\n      <td>0.907751</td>\n      <td>1.407441</td>\n      <td>0.668651</td>\n    </tr>\n    <tr>\n      <th>93</th>\n      <td>-3.826542</td>\n      <td>-1.451060</td>\n      <td>-0.415191</td>\n      <td>2.715501</td>\n      <td>-0.529860</td>\n      <td>-0.488518</td>\n      <td>-0.467692</td>\n      <td>-1.334367</td>\n      <td>2.038544</td>\n      <td>-0.543592</td>\n      <td>0.689782</td>\n      <td>-0.624825</td>\n      <td>-0.306452</td>\n      <td>-0.827554</td>\n      <td>-0.551186</td>\n      <td>-1.092575</td>\n      <td>-1.008613</td>\n      <td>-0.585705</td>\n      <td>-1.189625</td>\n    </tr>\n  </tbody>\n</table>\n<p>121 rows × 19 columns</p>\n</div>"
     },
     "execution_count": 25,
     "metadata": {},
     "output_type": "execute_result"
    }
   ],
   "source": [
    "x_train"
   ],
   "metadata": {
    "collapsed": false,
    "pycharm": {
     "name": "#%%\n"
    }
   }
  },
  {
   "cell_type": "code",
   "execution_count": 26,
   "outputs": [
    {
     "data": {
      "text/plain": "94      4000\n118     4200\n109     3500\n5      85000\n75      4200\n       ...  \n52     10000\n19     70000\n98      3400\n110    18500\n93      2700\nName: y, Length: 121, dtype: int64"
     },
     "execution_count": 26,
     "metadata": {},
     "output_type": "execute_result"
    }
   ],
   "source": [
    "y_train"
   ],
   "metadata": {
    "collapsed": false,
    "pycharm": {
     "name": "#%%\n"
    }
   }
  }
 ],
 "metadata": {
  "kernelspec": {
   "display_name": "Python 3 (ipykernel)",
   "language": "python",
   "name": "python3"
  },
  "language_info": {
   "codemirror_mode": {
    "name": "ipython",
    "version": 3
   },
   "file_extension": ".py",
   "mimetype": "text/x-python",
   "name": "python",
   "nbconvert_exporter": "python",
   "pygments_lexer": "ipython3",
   "version": "3.9.7"
  }
 },
 "nbformat": 4,
 "nbformat_minor": 1
}