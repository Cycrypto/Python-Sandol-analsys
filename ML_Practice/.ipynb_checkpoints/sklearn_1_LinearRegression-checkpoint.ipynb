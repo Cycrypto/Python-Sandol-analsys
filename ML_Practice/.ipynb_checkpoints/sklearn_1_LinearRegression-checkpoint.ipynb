{
 "cells": [
  {
   "cell_type": "markdown",
   "metadata": {
    "collapsed": true,
    "pycharm": {
     "name": "#%% md\n"
    }
   },
   "source": [
    "# 선형 회귀분석\n",
    "결과를 바탕으로 관계를 역으로 찾아서 거슬러 올라가는 느낌이라 회귀라고 부르는 것은 아닌가 합니다."
   ]
  },
  {
   "cell_type": "code",
   "execution_count": 20,
   "metadata": {
    "pycharm": {
     "name": "#%%\n"
    }
   },
   "outputs": [],
   "source": [
    "import pandas as pd\n",
    "import numpy as np\n",
    "import matplotlib.pyplot as plt\n",
    "\n",
    "import warnings\n",
    "warnings.filterwarnings(\"ignore\")"
   ]
  },
  {
   "cell_type": "code",
   "execution_count": 21,
   "metadata": {
    "pycharm": {
     "name": "#%%\n"
    }
   },
   "outputs": [],
   "source": [
    "picher_file_path = \"./resources/data/picher_stats_2017.csv\"\n",
    "picher = pd.read_csv(picher_file_path)"
   ]
  },
  {
   "cell_type": "code",
   "execution_count": 22,
   "metadata": {
    "pycharm": {
     "name": "#%%\n"
    }
   },
   "outputs": [
    {
     "data": {
      "text/html": [
       "<div>\n",
       "<style scoped>\n",
       "    .dataframe tbody tr th:only-of-type {\n",
       "        vertical-align: middle;\n",
       "    }\n",
       "\n",
       "    .dataframe tbody tr th {\n",
       "        vertical-align: top;\n",
       "    }\n",
       "\n",
       "    .dataframe thead th {\n",
       "        text-align: right;\n",
       "    }\n",
       "</style>\n",
       "<table border=\"1\" class=\"dataframe\">\n",
       "  <thead>\n",
       "    <tr style=\"text-align: right;\">\n",
       "      <th></th>\n",
       "      <th>선수명</th>\n",
       "      <th>팀명</th>\n",
       "      <th>승</th>\n",
       "      <th>패</th>\n",
       "      <th>세</th>\n",
       "      <th>홀드</th>\n",
       "      <th>블론</th>\n",
       "      <th>경기</th>\n",
       "      <th>선발</th>\n",
       "      <th>이닝</th>\n",
       "      <th>...</th>\n",
       "      <th>홈런/9</th>\n",
       "      <th>BABIP</th>\n",
       "      <th>LOB%</th>\n",
       "      <th>ERA</th>\n",
       "      <th>RA9-WAR</th>\n",
       "      <th>FIP</th>\n",
       "      <th>kFIP</th>\n",
       "      <th>WAR</th>\n",
       "      <th>연봉(2018)</th>\n",
       "      <th>연봉(2017)</th>\n",
       "    </tr>\n",
       "  </thead>\n",
       "  <tbody>\n",
       "    <tr>\n",
       "      <th>0</th>\n",
       "      <td>켈리</td>\n",
       "      <td>SK</td>\n",
       "      <td>16</td>\n",
       "      <td>7</td>\n",
       "      <td>0</td>\n",
       "      <td>0</td>\n",
       "      <td>0</td>\n",
       "      <td>30</td>\n",
       "      <td>30</td>\n",
       "      <td>190.0</td>\n",
       "      <td>...</td>\n",
       "      <td>0.76</td>\n",
       "      <td>0.342</td>\n",
       "      <td>73.7</td>\n",
       "      <td>3.60</td>\n",
       "      <td>6.91</td>\n",
       "      <td>3.69</td>\n",
       "      <td>3.44</td>\n",
       "      <td>6.62</td>\n",
       "      <td>140000</td>\n",
       "      <td>85000</td>\n",
       "    </tr>\n",
       "    <tr>\n",
       "      <th>1</th>\n",
       "      <td>소사</td>\n",
       "      <td>LG</td>\n",
       "      <td>11</td>\n",
       "      <td>11</td>\n",
       "      <td>1</td>\n",
       "      <td>0</td>\n",
       "      <td>0</td>\n",
       "      <td>30</td>\n",
       "      <td>29</td>\n",
       "      <td>185.1</td>\n",
       "      <td>...</td>\n",
       "      <td>0.53</td>\n",
       "      <td>0.319</td>\n",
       "      <td>67.1</td>\n",
       "      <td>3.88</td>\n",
       "      <td>6.80</td>\n",
       "      <td>3.52</td>\n",
       "      <td>3.41</td>\n",
       "      <td>6.08</td>\n",
       "      <td>120000</td>\n",
       "      <td>50000</td>\n",
       "    </tr>\n",
       "    <tr>\n",
       "      <th>2</th>\n",
       "      <td>양현종</td>\n",
       "      <td>KIA</td>\n",
       "      <td>20</td>\n",
       "      <td>6</td>\n",
       "      <td>0</td>\n",
       "      <td>0</td>\n",
       "      <td>0</td>\n",
       "      <td>31</td>\n",
       "      <td>31</td>\n",
       "      <td>193.1</td>\n",
       "      <td>...</td>\n",
       "      <td>0.79</td>\n",
       "      <td>0.332</td>\n",
       "      <td>72.1</td>\n",
       "      <td>3.44</td>\n",
       "      <td>6.54</td>\n",
       "      <td>3.94</td>\n",
       "      <td>3.82</td>\n",
       "      <td>5.64</td>\n",
       "      <td>230000</td>\n",
       "      <td>150000</td>\n",
       "    </tr>\n",
       "    <tr>\n",
       "      <th>3</th>\n",
       "      <td>차우찬</td>\n",
       "      <td>LG</td>\n",
       "      <td>10</td>\n",
       "      <td>7</td>\n",
       "      <td>0</td>\n",
       "      <td>0</td>\n",
       "      <td>0</td>\n",
       "      <td>28</td>\n",
       "      <td>28</td>\n",
       "      <td>175.2</td>\n",
       "      <td>...</td>\n",
       "      <td>1.02</td>\n",
       "      <td>0.298</td>\n",
       "      <td>75.0</td>\n",
       "      <td>3.43</td>\n",
       "      <td>6.11</td>\n",
       "      <td>4.20</td>\n",
       "      <td>4.03</td>\n",
       "      <td>4.63</td>\n",
       "      <td>100000</td>\n",
       "      <td>100000</td>\n",
       "    </tr>\n",
       "    <tr>\n",
       "      <th>4</th>\n",
       "      <td>레일리</td>\n",
       "      <td>롯데</td>\n",
       "      <td>13</td>\n",
       "      <td>7</td>\n",
       "      <td>0</td>\n",
       "      <td>0</td>\n",
       "      <td>0</td>\n",
       "      <td>30</td>\n",
       "      <td>30</td>\n",
       "      <td>187.1</td>\n",
       "      <td>...</td>\n",
       "      <td>0.91</td>\n",
       "      <td>0.323</td>\n",
       "      <td>74.1</td>\n",
       "      <td>3.80</td>\n",
       "      <td>6.13</td>\n",
       "      <td>4.36</td>\n",
       "      <td>4.31</td>\n",
       "      <td>4.38</td>\n",
       "      <td>111000</td>\n",
       "      <td>85000</td>\n",
       "    </tr>\n",
       "  </tbody>\n",
       "</table>\n",
       "<p>5 rows × 22 columns</p>\n",
       "</div>"
      ],
      "text/plain": [
       "   선수명   팀명   승   패  세  홀드  블론  경기  선발     이닝  ...  홈런/9  BABIP  LOB%   ERA  \\\n",
       "0   켈리   SK  16   7  0   0   0  30  30  190.0  ...  0.76  0.342  73.7  3.60   \n",
       "1   소사   LG  11  11  1   0   0  30  29  185.1  ...  0.53  0.319  67.1  3.88   \n",
       "2  양현종  KIA  20   6  0   0   0  31  31  193.1  ...  0.79  0.332  72.1  3.44   \n",
       "3  차우찬   LG  10   7  0   0   0  28  28  175.2  ...  1.02  0.298  75.0  3.43   \n",
       "4  레일리   롯데  13   7  0   0   0  30  30  187.1  ...  0.91  0.323  74.1  3.80   \n",
       "\n",
       "   RA9-WAR   FIP  kFIP   WAR  연봉(2018)  연봉(2017)  \n",
       "0     6.91  3.69  3.44  6.62    140000     85000  \n",
       "1     6.80  3.52  3.41  6.08    120000     50000  \n",
       "2     6.54  3.94  3.82  5.64    230000    150000  \n",
       "3     6.11  4.20  4.03  4.63    100000    100000  \n",
       "4     6.13  4.36  4.31  4.38    111000     85000  \n",
       "\n",
       "[5 rows x 22 columns]"
      ]
     },
     "execution_count": 22,
     "metadata": {},
     "output_type": "execute_result"
    }
   ],
   "source": [
    "picher.head()   # 상위 5행만 출력"
   ]
  },
  {
   "cell_type": "code",
   "execution_count": 23,
   "metadata": {
    "pycharm": {
     "name": "#%%\n"
    }
   },
   "outputs": [
    {
     "data": {
      "text/plain": [
       "Index(['선수명', '팀명', '승', '패', '세', '홀드', '블론', '경기', '선발', '이닝', '삼진/9',\n",
       "       '볼넷/9', '홈런/9', 'BABIP', 'LOB%', 'ERA', 'RA9-WAR', 'FIP', 'kFIP', 'WAR',\n",
       "       '연봉(2018)', '연봉(2017)'],\n",
       "      dtype='object')"
      ]
     },
     "execution_count": 23,
     "metadata": {},
     "output_type": "execute_result"
    }
   ],
   "source": [
    "picher.columns"
   ]
  },
  {
   "cell_type": "code",
   "execution_count": 24,
   "metadata": {
    "pycharm": {
     "name": "#%%\n"
    }
   },
   "outputs": [
    {
     "data": {
      "text/plain": [
       "{'Agency FB',\n",
       " 'Algerian',\n",
       " 'Ami R',\n",
       " 'Arial',\n",
       " 'Arial Rounded MT Bold',\n",
       " 'Bahnschrift',\n",
       " 'Baskerville Old Face',\n",
       " 'Batang',\n",
       " 'Bauhaus 93',\n",
       " 'Bell MT',\n",
       " 'Berlin Sans FB',\n",
       " 'Berlin Sans FB Demi',\n",
       " 'Bernard MT Condensed',\n",
       " 'Blackadder ITC',\n",
       " 'Bodoni MT',\n",
       " 'Book Antiqua',\n",
       " 'Bookman Old Style',\n",
       " 'Bookshelf Symbol 7',\n",
       " 'Bradley Hand ITC',\n",
       " 'Britannic Bold',\n",
       " 'Broadway',\n",
       " 'Brush Script MT',\n",
       " 'Calibri',\n",
       " 'Californian FB',\n",
       " 'Calisto MT',\n",
       " 'Cambria',\n",
       " 'Candara',\n",
       " 'Castellar',\n",
       " 'Centaur',\n",
       " 'Century',\n",
       " 'Century Gothic',\n",
       " 'Century Schoolbook',\n",
       " 'Chiller',\n",
       " 'Colonna MT',\n",
       " 'Comic Sans MS',\n",
       " 'Consolas',\n",
       " 'Constantia',\n",
       " 'Cooper Black',\n",
       " 'Copperplate Gothic Bold',\n",
       " 'Copperplate Gothic Light',\n",
       " 'Corbel',\n",
       " 'Courier New',\n",
       " 'Curlz MT',\n",
       " 'DejaVu Sans',\n",
       " 'DejaVu Sans Display',\n",
       " 'DejaVu Sans Mono',\n",
       " 'DejaVu Serif',\n",
       " 'DejaVu Serif Display',\n",
       " 'Dubai',\n",
       " 'Ebrima',\n",
       " 'Edwardian Script ITC',\n",
       " 'Elephant',\n",
       " 'Engravers MT',\n",
       " 'Eras Bold ITC',\n",
       " 'Eras Demi ITC',\n",
       " 'Eras Light ITC',\n",
       " 'Eras Medium ITC',\n",
       " 'Felix Titling',\n",
       " 'Footlight MT Light',\n",
       " 'Forte',\n",
       " 'Franklin Gothic Book',\n",
       " 'Franklin Gothic Demi',\n",
       " 'Franklin Gothic Demi Cond',\n",
       " 'Franklin Gothic Heavy',\n",
       " 'Franklin Gothic Medium',\n",
       " 'Franklin Gothic Medium Cond',\n",
       " 'Freestyle Script',\n",
       " 'French Script MT',\n",
       " 'Gabriola',\n",
       " 'Gadugi',\n",
       " 'Garamond',\n",
       " 'Georgia',\n",
       " 'Gigi',\n",
       " 'Gill Sans MT',\n",
       " 'Gill Sans MT Condensed',\n",
       " 'Gill Sans MT Ext Condensed Bold',\n",
       " 'Gill Sans Ultra Bold',\n",
       " 'Gill Sans Ultra Bold Condensed',\n",
       " 'Gloucester MT Extra Condensed',\n",
       " 'Goudy Old Style',\n",
       " 'Goudy Stout',\n",
       " 'Gulim',\n",
       " 'HYGothic-Extra',\n",
       " 'HYGothic-Medium',\n",
       " 'HYGraphic-Medium',\n",
       " 'HYGungSo-Bold',\n",
       " 'HYHeadLine-Medium',\n",
       " 'HYMyeongJo-Extra',\n",
       " 'HYPMokGak-Bold',\n",
       " 'HYPost-Light',\n",
       " 'HYPost-Medium',\n",
       " 'HYShortSamul-Medium',\n",
       " 'HYSinMyeongJo-Medium',\n",
       " 'Haettenschweiler',\n",
       " 'Harlow Solid Italic',\n",
       " 'Harrington',\n",
       " 'Headline R',\n",
       " 'High Tower Text',\n",
       " 'HoloLens MDL2 Assets',\n",
       " 'Impact',\n",
       " 'Imprint MT Shadow',\n",
       " 'Informal Roman',\n",
       " 'Ink Free',\n",
       " 'Javanese Text',\n",
       " 'Jokerman',\n",
       " 'Juice ITC',\n",
       " 'Kristen ITC',\n",
       " 'Kunstler Script',\n",
       " 'Leelawadee UI',\n",
       " 'Lucida Bright',\n",
       " 'Lucida Calligraphy',\n",
       " 'Lucida Console',\n",
       " 'Lucida Fax',\n",
       " 'Lucida Handwriting',\n",
       " 'Lucida Sans',\n",
       " 'Lucida Sans Typewriter',\n",
       " 'Lucida Sans Unicode',\n",
       " 'MS Gothic',\n",
       " 'MS Outlook',\n",
       " 'MS Reference Sans Serif',\n",
       " 'MS Reference Specialty',\n",
       " 'MT Extra',\n",
       " 'MV Boli',\n",
       " 'Magic R',\n",
       " 'Magneto',\n",
       " 'Maiandra GD',\n",
       " 'Malgun Gothic',\n",
       " 'Marlett',\n",
       " 'Matura MT Script Capitals',\n",
       " 'Microsoft Himalaya',\n",
       " 'Microsoft JhengHei',\n",
       " 'Microsoft New Tai Lue',\n",
       " 'Microsoft PhagsPa',\n",
       " 'Microsoft Sans Serif',\n",
       " 'Microsoft Tai Le',\n",
       " 'Microsoft YaHei',\n",
       " 'Microsoft Yi Baiti',\n",
       " 'MingLiU-ExtB',\n",
       " 'Mistral',\n",
       " 'Modern No. 20',\n",
       " 'MoeumT R',\n",
       " 'Mongolian Baiti',\n",
       " 'Monotype Corsiva',\n",
       " 'Myanmar Text',\n",
       " 'New Gulim',\n",
       " 'Niagara Engraved',\n",
       " 'Niagara Solid',\n",
       " 'Nirmala UI',\n",
       " 'OCR A Extended',\n",
       " 'Old English Text MT',\n",
       " 'Onyx',\n",
       " 'Palace Script MT',\n",
       " 'Palatino Linotype',\n",
       " 'Papyrus',\n",
       " 'Parchment',\n",
       " 'Perpetua',\n",
       " 'Perpetua Titling MT',\n",
       " 'Playbill',\n",
       " 'Poor Richard',\n",
       " 'Pristina',\n",
       " 'Pyunji R',\n",
       " 'Rage Italic',\n",
       " 'Ravie',\n",
       " 'Rockwell',\n",
       " 'Rockwell Condensed',\n",
       " 'Rockwell Extra Bold',\n",
       " 'STIXGeneral',\n",
       " 'STIXNonUnicode',\n",
       " 'STIXSizeFiveSym',\n",
       " 'STIXSizeFourSym',\n",
       " 'STIXSizeOneSym',\n",
       " 'STIXSizeThreeSym',\n",
       " 'STIXSizeTwoSym',\n",
       " 'Script MT Bold',\n",
       " 'Segoe MDL2 Assets',\n",
       " 'Segoe Print',\n",
       " 'Segoe Script',\n",
       " 'Segoe UI',\n",
       " 'Segoe UI Emoji',\n",
       " 'Segoe UI Historic',\n",
       " 'Segoe UI Symbol',\n",
       " 'Showcard Gothic',\n",
       " 'SimSun',\n",
       " 'SimSun-ExtB',\n",
       " 'Sitka Small',\n",
       " 'Snap ITC',\n",
       " 'Stencil',\n",
       " 'Sylfaen',\n",
       " 'Symbol',\n",
       " 'Tahoma',\n",
       " 'Tempus Sans ITC',\n",
       " 'Times New Roman',\n",
       " 'Trebuchet MS',\n",
       " 'Tw Cen MT',\n",
       " 'Tw Cen MT Condensed',\n",
       " 'Tw Cen MT Condensed Extra Bold',\n",
       " 'Verdana',\n",
       " 'Viner Hand ITC',\n",
       " 'Vivaldi',\n",
       " 'Vladimir Script',\n",
       " 'Webdings',\n",
       " 'Wide Latin',\n",
       " 'Wingdings',\n",
       " 'Wingdings 2',\n",
       " 'Wingdings 3',\n",
       " 'Yet R',\n",
       " 'Yu Gothic',\n",
       " 'cmb10',\n",
       " 'cmex10',\n",
       " 'cmmi10',\n",
       " 'cmr10',\n",
       " 'cmss10',\n",
       " 'cmsy10',\n",
       " 'cmtt10'}"
      ]
     },
     "execution_count": 24,
     "metadata": {},
     "output_type": "execute_result"
    }
   ],
   "source": [
    "import matplotlib as mpl\n",
    "set(sorted([f.name for f in mpl.font_manager.fontManager.ttflist]))\n",
    "# FONT 리스트 확인"
   ]
  },
  {
   "cell_type": "code",
   "execution_count": 25,
   "metadata": {
    "pycharm": {
     "name": "#%%\n"
    }
   },
   "outputs": [],
   "source": [
    "mpl.rc('font', family='Batang')"
   ]
  },
  {
   "cell_type": "code",
   "execution_count": 26,
   "metadata": {
    "pycharm": {
     "name": "#%%\n"
    }
   },
   "outputs": [
    {
     "data": {
      "text/plain": [
       "<AxesSubplot:>"
      ]
     },
     "execution_count": 26,
     "metadata": {},
     "output_type": "execute_result"
    },
    {
     "data": {
      "image/png": "[encoded data removed]",
      "text/plain": [
       "<Figure size 432x288 with 1 Axes>"
      ]
     },
     "metadata": {
      "needs_background": "light"
     },
     "output_type": "display_data"
    }
   ],
   "source": [
    "picher['연봉(2018)'].hist(bins=100)"
   ]
  },
  {
   "cell_type": "code",
   "execution_count": 27,
   "metadata": {
    "pycharm": {
     "name": "#%%\n"
    }
   },
   "outputs": [
    {
     "data": {
      "text/plain": [
       "<AxesSubplot:>"
      ]
     },
     "execution_count": 27,
     "metadata": {},
     "output_type": "execute_result"
    },
    {
     "data": {
      "image/png": "[encoded data removed]",
      "text/plain": [
       "<Figure size 432x288 with 1 Axes>"
      ]
     },
     "metadata": {
      "needs_background": "light"
     },
     "output_type": "display_data"
    }
   ],
   "source": [
    "picher.boxplot(column=[\"연봉(2018)\"])"
   ]
  },
  {
   "cell_type": "code",
   "execution_count": 28,
   "metadata": {
    "pycharm": {
     "name": "#%%\n"
    }
   },
   "outputs": [
    {
     "data": {
      "text/plain": [
       "<AxesSubplot:xlabel='연봉(2018)', ylabel='Density'>"
      ]
     },
     "execution_count": 28,
     "metadata": {},
     "output_type": "execute_result"
    },
    {
     "data": {
      "image/png": "[encoded data removed]",
      "text/plain": [
       "<Figure size 432x288 with 1 Axes>"
      ]
     },
     "metadata": {
      "needs_background": "light"
     },
     "output_type": "display_data"
    }
   ],
   "source": [
    "from seaborn import distplot\n",
    "distplot(picher['연봉(2018)'])"
   ]
  },
  {
   "cell_type": "code",
   "execution_count": null,
   "metadata": {
    "pycharm": {
     "name": "#%%\n"
    }
   },
   "outputs": [],
   "source": []
  }
 ],
 "metadata": {
  "kernelspec": {
   "display_name": "Python 3 (ipykernel)",
   "language": "python",
   "name": "python3"
  },
  "language_info": {
   "codemirror_mode": {
    "name": "ipython",
    "version": 3
   },
   "file_extension": ".py",
   "mimetype": "text/x-python",
   "name": "python",
   "nbconvert_exporter": "python",
   "pygments_lexer": "ipython3",
   "version": "3.9.7"
  }
 },
 "nbformat": 4,
 "nbformat_minor": 1
}
